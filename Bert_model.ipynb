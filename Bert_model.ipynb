{
  "nbformat": 4,
  "nbformat_minor": 0,
  "metadata": {
    "colab": {
      "provenance": [],
      "gpuType": "T4"
    },
    "kernelspec": {
      "name": "python3",
      "display_name": "Python 3"
    },
    "language_info": {
      "name": "python"
    },
    "accelerator": "GPU",
    "widgets": {
      "application/vnd.jupyter.widget-state+json": {
        "f02f46014a7146e3bad555f2623f5882": {
          "model_module": "@jupyter-widgets/controls",
          "model_name": "HBoxModel",
          "model_module_version": "1.5.0",
          "state": {
            "_dom_classes": [],
            "_model_module": "@jupyter-widgets/controls",
            "_model_module_version": "1.5.0",
            "_model_name": "HBoxModel",
            "_view_count": null,
            "_view_module": "@jupyter-widgets/controls",
            "_view_module_version": "1.5.0",
            "_view_name": "HBoxView",
            "box_style": "",
            "children": [
              "IPY_MODEL_e89aae7bc32941b0aec74812ecf1f5ea",
              "IPY_MODEL_53c46024d6b7421f97f79970e270c8ec",
              "IPY_MODEL_073f3d581850431f8673572699fdc2ac"
            ],
            "layout": "IPY_MODEL_f741021dcb154850a261b04bfc1ed5c7"
          }
        },
        "e89aae7bc32941b0aec74812ecf1f5ea": {
          "model_module": "@jupyter-widgets/controls",
          "model_name": "HTMLModel",
          "model_module_version": "1.5.0",
          "state": {
            "_dom_classes": [],
            "_model_module": "@jupyter-widgets/controls",
            "_model_module_version": "1.5.0",
            "_model_name": "HTMLModel",
            "_view_count": null,
            "_view_module": "@jupyter-widgets/controls",
            "_view_module_version": "1.5.0",
            "_view_name": "HTMLView",
            "description": "",
            "description_tooltip": null,
            "layout": "IPY_MODEL_7c86c708c6cc40bba2b9ef6790177f2b",
            "placeholder": "​",
            "style": "IPY_MODEL_40c229f8a3fa4c27970c81353ddc89a8",
            "value": "Downloading builder script: 100%"
          }
        },
        "53c46024d6b7421f97f79970e270c8ec": {
          "model_module": "@jupyter-widgets/controls",
          "model_name": "FloatProgressModel",
          "model_module_version": "1.5.0",
          "state": {
            "_dom_classes": [],
            "_model_module": "@jupyter-widgets/controls",
            "_model_module_version": "1.5.0",
            "_model_name": "FloatProgressModel",
            "_view_count": null,
            "_view_module": "@jupyter-widgets/controls",
            "_view_module_version": "1.5.0",
            "_view_name": "ProgressView",
            "bar_style": "success",
            "description": "",
            "description_tooltip": null,
            "layout": "IPY_MODEL_c514a455bf96414d92e3ac497ec5e6b6",
            "max": 4203,
            "min": 0,
            "orientation": "horizontal",
            "style": "IPY_MODEL_7a2302c3031344a4a0621b218e2cd195",
            "value": 4203
          }
        },
        "073f3d581850431f8673572699fdc2ac": {
          "model_module": "@jupyter-widgets/controls",
          "model_name": "HTMLModel",
          "model_module_version": "1.5.0",
          "state": {
            "_dom_classes": [],
            "_model_module": "@jupyter-widgets/controls",
            "_model_module_version": "1.5.0",
            "_model_name": "HTMLModel",
            "_view_count": null,
            "_view_module": "@jupyter-widgets/controls",
            "_view_module_version": "1.5.0",
            "_view_name": "HTMLView",
            "description": "",
            "description_tooltip": null,
            "layout": "IPY_MODEL_9ae3429cb78f4999ad1641789a286d74",
            "placeholder": "​",
            "style": "IPY_MODEL_3e42aed9e841498f8780b05fb91180d0",
            "value": " 4.20k/4.20k [00:00&lt;00:00, 180kB/s]"
          }
        },
        "f741021dcb154850a261b04bfc1ed5c7": {
          "model_module": "@jupyter-widgets/base",
          "model_name": "LayoutModel",
          "model_module_version": "1.2.0",
          "state": {
            "_model_module": "@jupyter-widgets/base",
            "_model_module_version": "1.2.0",
            "_model_name": "LayoutModel",
            "_view_count": null,
            "_view_module": "@jupyter-widgets/base",
            "_view_module_version": "1.2.0",
            "_view_name": "LayoutView",
            "align_content": null,
            "align_items": null,
            "align_self": null,
            "border": null,
            "bottom": null,
            "display": null,
            "flex": null,
            "flex_flow": null,
            "grid_area": null,
            "grid_auto_columns": null,
            "grid_auto_flow": null,
            "grid_auto_rows": null,
            "grid_column": null,
            "grid_gap": null,
            "grid_row": null,
            "grid_template_areas": null,
            "grid_template_columns": null,
            "grid_template_rows": null,
            "height": null,
            "justify_content": null,
            "justify_items": null,
            "left": null,
            "margin": null,
            "max_height": null,
            "max_width": null,
            "min_height": null,
            "min_width": null,
            "object_fit": null,
            "object_position": null,
            "order": null,
            "overflow": null,
            "overflow_x": null,
            "overflow_y": null,
            "padding": null,
            "right": null,
            "top": null,
            "visibility": null,
            "width": null
          }
        },
        "7c86c708c6cc40bba2b9ef6790177f2b": {
          "model_module": "@jupyter-widgets/base",
          "model_name": "LayoutModel",
          "model_module_version": "1.2.0",
          "state": {
            "_model_module": "@jupyter-widgets/base",
            "_model_module_version": "1.2.0",
            "_model_name": "LayoutModel",
            "_view_count": null,
            "_view_module": "@jupyter-widgets/base",
            "_view_module_version": "1.2.0",
            "_view_name": "LayoutView",
            "align_content": null,
            "align_items": null,
            "align_self": null,
            "border": null,
            "bottom": null,
            "display": null,
            "flex": null,
            "flex_flow": null,
            "grid_area": null,
            "grid_auto_columns": null,
            "grid_auto_flow": null,
            "grid_auto_rows": null,
            "grid_column": null,
            "grid_gap": null,
            "grid_row": null,
            "grid_template_areas": null,
            "grid_template_columns": null,
            "grid_template_rows": null,
            "height": null,
            "justify_content": null,
            "justify_items": null,
            "left": null,
            "margin": null,
            "max_height": null,
            "max_width": null,
            "min_height": null,
            "min_width": null,
            "object_fit": null,
            "object_position": null,
            "order": null,
            "overflow": null,
            "overflow_x": null,
            "overflow_y": null,
            "padding": null,
            "right": null,
            "top": null,
            "visibility": null,
            "width": null
          }
        },
        "40c229f8a3fa4c27970c81353ddc89a8": {
          "model_module": "@jupyter-widgets/controls",
          "model_name": "DescriptionStyleModel",
          "model_module_version": "1.5.0",
          "state": {
            "_model_module": "@jupyter-widgets/controls",
            "_model_module_version": "1.5.0",
            "_model_name": "DescriptionStyleModel",
            "_view_count": null,
            "_view_module": "@jupyter-widgets/base",
            "_view_module_version": "1.2.0",
            "_view_name": "StyleView",
            "description_width": ""
          }
        },
        "c514a455bf96414d92e3ac497ec5e6b6": {
          "model_module": "@jupyter-widgets/base",
          "model_name": "LayoutModel",
          "model_module_version": "1.2.0",
          "state": {
            "_model_module": "@jupyter-widgets/base",
            "_model_module_version": "1.2.0",
            "_model_name": "LayoutModel",
            "_view_count": null,
            "_view_module": "@jupyter-widgets/base",
            "_view_module_version": "1.2.0",
            "_view_name": "LayoutView",
            "align_content": null,
            "align_items": null,
            "align_self": null,
            "border": null,
            "bottom": null,
            "display": null,
            "flex": null,
            "flex_flow": null,
            "grid_area": null,
            "grid_auto_columns": null,
            "grid_auto_flow": null,
            "grid_auto_rows": null,
            "grid_column": null,
            "grid_gap": null,
            "grid_row": null,
            "grid_template_areas": null,
            "grid_template_columns": null,
            "grid_template_rows": null,
            "height": null,
            "justify_content": null,
            "justify_items": null,
            "left": null,
            "margin": null,
            "max_height": null,
            "max_width": null,
            "min_height": null,
            "min_width": null,
            "object_fit": null,
            "object_position": null,
            "order": null,
            "overflow": null,
            "overflow_x": null,
            "overflow_y": null,
            "padding": null,
            "right": null,
            "top": null,
            "visibility": null,
            "width": null
          }
        },
        "7a2302c3031344a4a0621b218e2cd195": {
          "model_module": "@jupyter-widgets/controls",
          "model_name": "ProgressStyleModel",
          "model_module_version": "1.5.0",
          "state": {
            "_model_module": "@jupyter-widgets/controls",
            "_model_module_version": "1.5.0",
            "_model_name": "ProgressStyleModel",
            "_view_count": null,
            "_view_module": "@jupyter-widgets/base",
            "_view_module_version": "1.2.0",
            "_view_name": "StyleView",
            "bar_color": null,
            "description_width": ""
          }
        },
        "9ae3429cb78f4999ad1641789a286d74": {
          "model_module": "@jupyter-widgets/base",
          "model_name": "LayoutModel",
          "model_module_version": "1.2.0",
          "state": {
            "_model_module": "@jupyter-widgets/base",
            "_model_module_version": "1.2.0",
            "_model_name": "LayoutModel",
            "_view_count": null,
            "_view_module": "@jupyter-widgets/base",
            "_view_module_version": "1.2.0",
            "_view_name": "LayoutView",
            "align_content": null,
            "align_items": null,
            "align_self": null,
            "border": null,
            "bottom": null,
            "display": null,
            "flex": null,
            "flex_flow": null,
            "grid_area": null,
            "grid_auto_columns": null,
            "grid_auto_flow": null,
            "grid_auto_rows": null,
            "grid_column": null,
            "grid_gap": null,
            "grid_row": null,
            "grid_template_areas": null,
            "grid_template_columns": null,
            "grid_template_rows": null,
            "height": null,
            "justify_content": null,
            "justify_items": null,
            "left": null,
            "margin": null,
            "max_height": null,
            "max_width": null,
            "min_height": null,
            "min_width": null,
            "object_fit": null,
            "object_position": null,
            "order": null,
            "overflow": null,
            "overflow_x": null,
            "overflow_y": null,
            "padding": null,
            "right": null,
            "top": null,
            "visibility": null,
            "width": null
          }
        },
        "3e42aed9e841498f8780b05fb91180d0": {
          "model_module": "@jupyter-widgets/controls",
          "model_name": "DescriptionStyleModel",
          "model_module_version": "1.5.0",
          "state": {
            "_model_module": "@jupyter-widgets/controls",
            "_model_module_version": "1.5.0",
            "_model_name": "DescriptionStyleModel",
            "_view_count": null,
            "_view_module": "@jupyter-widgets/base",
            "_view_module_version": "1.2.0",
            "_view_name": "StyleView",
            "description_width": ""
          }
        },
        "104f8a24d6d6439595dd826ad8d6b380": {
          "model_module": "@jupyter-widgets/controls",
          "model_name": "HBoxModel",
          "model_module_version": "1.5.0",
          "state": {
            "_dom_classes": [],
            "_model_module": "@jupyter-widgets/controls",
            "_model_module_version": "1.5.0",
            "_model_name": "HBoxModel",
            "_view_count": null,
            "_view_module": "@jupyter-widgets/controls",
            "_view_module_version": "1.5.0",
            "_view_name": "HBoxView",
            "box_style": "",
            "children": [
              "IPY_MODEL_4310e7ab5ce34e4b9b5e736008819db0",
              "IPY_MODEL_34939b807f3d45a582695e0ba5e98103",
              "IPY_MODEL_f9791f006f8f46c889872945dc61fc25"
            ],
            "layout": "IPY_MODEL_883c1e4db8694524988637a2488977a0"
          }
        },
        "4310e7ab5ce34e4b9b5e736008819db0": {
          "model_module": "@jupyter-widgets/controls",
          "model_name": "HTMLModel",
          "model_module_version": "1.5.0",
          "state": {
            "_dom_classes": [],
            "_model_module": "@jupyter-widgets/controls",
            "_model_module_version": "1.5.0",
            "_model_name": "HTMLModel",
            "_view_count": null,
            "_view_module": "@jupyter-widgets/controls",
            "_view_module_version": "1.5.0",
            "_view_name": "HTMLView",
            "description": "",
            "description_tooltip": null,
            "layout": "IPY_MODEL_d7aba8dcb44144b28257fa5d4b6cb1d2",
            "placeholder": "​",
            "style": "IPY_MODEL_cb9e3351b2144354b69028c4981d007b",
            "value": "Downloading builder script: 100%"
          }
        },
        "34939b807f3d45a582695e0ba5e98103": {
          "model_module": "@jupyter-widgets/controls",
          "model_name": "FloatProgressModel",
          "model_module_version": "1.5.0",
          "state": {
            "_dom_classes": [],
            "_model_module": "@jupyter-widgets/controls",
            "_model_module_version": "1.5.0",
            "_model_name": "FloatProgressModel",
            "_view_count": null,
            "_view_module": "@jupyter-widgets/controls",
            "_view_module_version": "1.5.0",
            "_view_name": "ProgressView",
            "bar_style": "success",
            "description": "",
            "description_tooltip": null,
            "layout": "IPY_MODEL_79b6a230af87478baf275e58b86cbf7d",
            "max": 6785,
            "min": 0,
            "orientation": "horizontal",
            "style": "IPY_MODEL_6923ebed4fee48cea7cf3a82a0d43048",
            "value": 6785
          }
        },
        "f9791f006f8f46c889872945dc61fc25": {
          "model_module": "@jupyter-widgets/controls",
          "model_name": "HTMLModel",
          "model_module_version": "1.5.0",
          "state": {
            "_dom_classes": [],
            "_model_module": "@jupyter-widgets/controls",
            "_model_module_version": "1.5.0",
            "_model_name": "HTMLModel",
            "_view_count": null,
            "_view_module": "@jupyter-widgets/controls",
            "_view_module_version": "1.5.0",
            "_view_name": "HTMLView",
            "description": "",
            "description_tooltip": null,
            "layout": "IPY_MODEL_483187d5820c4a478558f0ca403af400",
            "placeholder": "​",
            "style": "IPY_MODEL_cbc748198f2147a4a0a756f87f73483d",
            "value": " 6.79k/6.79k [00:00&lt;00:00, 323kB/s]"
          }
        },
        "883c1e4db8694524988637a2488977a0": {
          "model_module": "@jupyter-widgets/base",
          "model_name": "LayoutModel",
          "model_module_version": "1.2.0",
          "state": {
            "_model_module": "@jupyter-widgets/base",
            "_model_module_version": "1.2.0",
            "_model_name": "LayoutModel",
            "_view_count": null,
            "_view_module": "@jupyter-widgets/base",
            "_view_module_version": "1.2.0",
            "_view_name": "LayoutView",
            "align_content": null,
            "align_items": null,
            "align_self": null,
            "border": null,
            "bottom": null,
            "display": null,
            "flex": null,
            "flex_flow": null,
            "grid_area": null,
            "grid_auto_columns": null,
            "grid_auto_flow": null,
            "grid_auto_rows": null,
            "grid_column": null,
            "grid_gap": null,
            "grid_row": null,
            "grid_template_areas": null,
            "grid_template_columns": null,
            "grid_template_rows": null,
            "height": null,
            "justify_content": null,
            "justify_items": null,
            "left": null,
            "margin": null,
            "max_height": null,
            "max_width": null,
            "min_height": null,
            "min_width": null,
            "object_fit": null,
            "object_position": null,
            "order": null,
            "overflow": null,
            "overflow_x": null,
            "overflow_y": null,
            "padding": null,
            "right": null,
            "top": null,
            "visibility": null,
            "width": null
          }
        },
        "d7aba8dcb44144b28257fa5d4b6cb1d2": {
          "model_module": "@jupyter-widgets/base",
          "model_name": "LayoutModel",
          "model_module_version": "1.2.0",
          "state": {
            "_model_module": "@jupyter-widgets/base",
            "_model_module_version": "1.2.0",
            "_model_name": "LayoutModel",
            "_view_count": null,
            "_view_module": "@jupyter-widgets/base",
            "_view_module_version": "1.2.0",
            "_view_name": "LayoutView",
            "align_content": null,
            "align_items": null,
            "align_self": null,
            "border": null,
            "bottom": null,
            "display": null,
            "flex": null,
            "flex_flow": null,
            "grid_area": null,
            "grid_auto_columns": null,
            "grid_auto_flow": null,
            "grid_auto_rows": null,
            "grid_column": null,
            "grid_gap": null,
            "grid_row": null,
            "grid_template_areas": null,
            "grid_template_columns": null,
            "grid_template_rows": null,
            "height": null,
            "justify_content": null,
            "justify_items": null,
            "left": null,
            "margin": null,
            "max_height": null,
            "max_width": null,
            "min_height": null,
            "min_width": null,
            "object_fit": null,
            "object_position": null,
            "order": null,
            "overflow": null,
            "overflow_x": null,
            "overflow_y": null,
            "padding": null,
            "right": null,
            "top": null,
            "visibility": null,
            "width": null
          }
        },
        "cb9e3351b2144354b69028c4981d007b": {
          "model_module": "@jupyter-widgets/controls",
          "model_name": "DescriptionStyleModel",
          "model_module_version": "1.5.0",
          "state": {
            "_model_module": "@jupyter-widgets/controls",
            "_model_module_version": "1.5.0",
            "_model_name": "DescriptionStyleModel",
            "_view_count": null,
            "_view_module": "@jupyter-widgets/base",
            "_view_module_version": "1.2.0",
            "_view_name": "StyleView",
            "description_width": ""
          }
        },
        "79b6a230af87478baf275e58b86cbf7d": {
          "model_module": "@jupyter-widgets/base",
          "model_name": "LayoutModel",
          "model_module_version": "1.2.0",
          "state": {
            "_model_module": "@jupyter-widgets/base",
            "_model_module_version": "1.2.0",
            "_model_name": "LayoutModel",
            "_view_count": null,
            "_view_module": "@jupyter-widgets/base",
            "_view_module_version": "1.2.0",
            "_view_name": "LayoutView",
            "align_content": null,
            "align_items": null,
            "align_self": null,
            "border": null,
            "bottom": null,
            "display": null,
            "flex": null,
            "flex_flow": null,
            "grid_area": null,
            "grid_auto_columns": null,
            "grid_auto_flow": null,
            "grid_auto_rows": null,
            "grid_column": null,
            "grid_gap": null,
            "grid_row": null,
            "grid_template_areas": null,
            "grid_template_columns": null,
            "grid_template_rows": null,
            "height": null,
            "justify_content": null,
            "justify_items": null,
            "left": null,
            "margin": null,
            "max_height": null,
            "max_width": null,
            "min_height": null,
            "min_width": null,
            "object_fit": null,
            "object_position": null,
            "order": null,
            "overflow": null,
            "overflow_x": null,
            "overflow_y": null,
            "padding": null,
            "right": null,
            "top": null,
            "visibility": null,
            "width": null
          }
        },
        "6923ebed4fee48cea7cf3a82a0d43048": {
          "model_module": "@jupyter-widgets/controls",
          "model_name": "ProgressStyleModel",
          "model_module_version": "1.5.0",
          "state": {
            "_model_module": "@jupyter-widgets/controls",
            "_model_module_version": "1.5.0",
            "_model_name": "ProgressStyleModel",
            "_view_count": null,
            "_view_module": "@jupyter-widgets/base",
            "_view_module_version": "1.2.0",
            "_view_name": "StyleView",
            "bar_color": null,
            "description_width": ""
          }
        },
        "483187d5820c4a478558f0ca403af400": {
          "model_module": "@jupyter-widgets/base",
          "model_name": "LayoutModel",
          "model_module_version": "1.2.0",
          "state": {
            "_model_module": "@jupyter-widgets/base",
            "_model_module_version": "1.2.0",
            "_model_name": "LayoutModel",
            "_view_count": null,
            "_view_module": "@jupyter-widgets/base",
            "_view_module_version": "1.2.0",
            "_view_name": "LayoutView",
            "align_content": null,
            "align_items": null,
            "align_self": null,
            "border": null,
            "bottom": null,
            "display": null,
            "flex": null,
            "flex_flow": null,
            "grid_area": null,
            "grid_auto_columns": null,
            "grid_auto_flow": null,
            "grid_auto_rows": null,
            "grid_column": null,
            "grid_gap": null,
            "grid_row": null,
            "grid_template_areas": null,
            "grid_template_columns": null,
            "grid_template_rows": null,
            "height": null,
            "justify_content": null,
            "justify_items": null,
            "left": null,
            "margin": null,
            "max_height": null,
            "max_width": null,
            "min_height": null,
            "min_width": null,
            "object_fit": null,
            "object_position": null,
            "order": null,
            "overflow": null,
            "overflow_x": null,
            "overflow_y": null,
            "padding": null,
            "right": null,
            "top": null,
            "visibility": null,
            "width": null
          }
        },
        "cbc748198f2147a4a0a756f87f73483d": {
          "model_module": "@jupyter-widgets/controls",
          "model_name": "DescriptionStyleModel",
          "model_module_version": "1.5.0",
          "state": {
            "_model_module": "@jupyter-widgets/controls",
            "_model_module_version": "1.5.0",
            "_model_name": "DescriptionStyleModel",
            "_view_count": null,
            "_view_module": "@jupyter-widgets/base",
            "_view_module_version": "1.2.0",
            "_view_name": "StyleView",
            "description_width": ""
          }
        },
        "9ca12122fc654548bdd4932a15cdc7f7": {
          "model_module": "@jupyter-widgets/controls",
          "model_name": "HBoxModel",
          "model_module_version": "1.5.0",
          "state": {
            "_dom_classes": [],
            "_model_module": "@jupyter-widgets/controls",
            "_model_module_version": "1.5.0",
            "_model_name": "HBoxModel",
            "_view_count": null,
            "_view_module": "@jupyter-widgets/controls",
            "_view_module_version": "1.5.0",
            "_view_name": "HBoxView",
            "box_style": "",
            "children": [
              "IPY_MODEL_130184d749ad434ebe4c4879b255f50d",
              "IPY_MODEL_14d12048c7094e029086049175215066",
              "IPY_MODEL_53ed29c0c8e04207a816fe683a9db79a"
            ],
            "layout": "IPY_MODEL_867ab75355444cb58e01d79edb9a8e88"
          }
        },
        "130184d749ad434ebe4c4879b255f50d": {
          "model_module": "@jupyter-widgets/controls",
          "model_name": "HTMLModel",
          "model_module_version": "1.5.0",
          "state": {
            "_dom_classes": [],
            "_model_module": "@jupyter-widgets/controls",
            "_model_module_version": "1.5.0",
            "_model_name": "HTMLModel",
            "_view_count": null,
            "_view_module": "@jupyter-widgets/controls",
            "_view_module_version": "1.5.0",
            "_view_name": "HTMLView",
            "description": "",
            "description_tooltip": null,
            "layout": "IPY_MODEL_86e03017b9184f718cdf662b7666c668",
            "placeholder": "​",
            "style": "IPY_MODEL_ce3880e77a9946e797618c39586449c7",
            "value": "tokenizer_config.json: 100%"
          }
        },
        "14d12048c7094e029086049175215066": {
          "model_module": "@jupyter-widgets/controls",
          "model_name": "FloatProgressModel",
          "model_module_version": "1.5.0",
          "state": {
            "_dom_classes": [],
            "_model_module": "@jupyter-widgets/controls",
            "_model_module_version": "1.5.0",
            "_model_name": "FloatProgressModel",
            "_view_count": null,
            "_view_module": "@jupyter-widgets/controls",
            "_view_module_version": "1.5.0",
            "_view_name": "ProgressView",
            "bar_style": "success",
            "description": "",
            "description_tooltip": null,
            "layout": "IPY_MODEL_fe930bdc75c143888203ae65f2c7d9fb",
            "max": 48,
            "min": 0,
            "orientation": "horizontal",
            "style": "IPY_MODEL_21978dea4a9449b8889f9a47f98809cf",
            "value": 48
          }
        },
        "53ed29c0c8e04207a816fe683a9db79a": {
          "model_module": "@jupyter-widgets/controls",
          "model_name": "HTMLModel",
          "model_module_version": "1.5.0",
          "state": {
            "_dom_classes": [],
            "_model_module": "@jupyter-widgets/controls",
            "_model_module_version": "1.5.0",
            "_model_name": "HTMLModel",
            "_view_count": null,
            "_view_module": "@jupyter-widgets/controls",
            "_view_module_version": "1.5.0",
            "_view_name": "HTMLView",
            "description": "",
            "description_tooltip": null,
            "layout": "IPY_MODEL_74869bac0d124109a44a9cdeddb6053f",
            "placeholder": "​",
            "style": "IPY_MODEL_2fe469d4daeb480697f3ab27757271a7",
            "value": " 48.0/48.0 [00:00&lt;00:00, 1.13kB/s]"
          }
        },
        "867ab75355444cb58e01d79edb9a8e88": {
          "model_module": "@jupyter-widgets/base",
          "model_name": "LayoutModel",
          "model_module_version": "1.2.0",
          "state": {
            "_model_module": "@jupyter-widgets/base",
            "_model_module_version": "1.2.0",
            "_model_name": "LayoutModel",
            "_view_count": null,
            "_view_module": "@jupyter-widgets/base",
            "_view_module_version": "1.2.0",
            "_view_name": "LayoutView",
            "align_content": null,
            "align_items": null,
            "align_self": null,
            "border": null,
            "bottom": null,
            "display": null,
            "flex": null,
            "flex_flow": null,
            "grid_area": null,
            "grid_auto_columns": null,
            "grid_auto_flow": null,
            "grid_auto_rows": null,
            "grid_column": null,
            "grid_gap": null,
            "grid_row": null,
            "grid_template_areas": null,
            "grid_template_columns": null,
            "grid_template_rows": null,
            "height": null,
            "justify_content": null,
            "justify_items": null,
            "left": null,
            "margin": null,
            "max_height": null,
            "max_width": null,
            "min_height": null,
            "min_width": null,
            "object_fit": null,
            "object_position": null,
            "order": null,
            "overflow": null,
            "overflow_x": null,
            "overflow_y": null,
            "padding": null,
            "right": null,
            "top": null,
            "visibility": null,
            "width": null
          }
        },
        "86e03017b9184f718cdf662b7666c668": {
          "model_module": "@jupyter-widgets/base",
          "model_name": "LayoutModel",
          "model_module_version": "1.2.0",
          "state": {
            "_model_module": "@jupyter-widgets/base",
            "_model_module_version": "1.2.0",
            "_model_name": "LayoutModel",
            "_view_count": null,
            "_view_module": "@jupyter-widgets/base",
            "_view_module_version": "1.2.0",
            "_view_name": "LayoutView",
            "align_content": null,
            "align_items": null,
            "align_self": null,
            "border": null,
            "bottom": null,
            "display": null,
            "flex": null,
            "flex_flow": null,
            "grid_area": null,
            "grid_auto_columns": null,
            "grid_auto_flow": null,
            "grid_auto_rows": null,
            "grid_column": null,
            "grid_gap": null,
            "grid_row": null,
            "grid_template_areas": null,
            "grid_template_columns": null,
            "grid_template_rows": null,
            "height": null,
            "justify_content": null,
            "justify_items": null,
            "left": null,
            "margin": null,
            "max_height": null,
            "max_width": null,
            "min_height": null,
            "min_width": null,
            "object_fit": null,
            "object_position": null,
            "order": null,
            "overflow": null,
            "overflow_x": null,
            "overflow_y": null,
            "padding": null,
            "right": null,
            "top": null,
            "visibility": null,
            "width": null
          }
        },
        "ce3880e77a9946e797618c39586449c7": {
          "model_module": "@jupyter-widgets/controls",
          "model_name": "DescriptionStyleModel",
          "model_module_version": "1.5.0",
          "state": {
            "_model_module": "@jupyter-widgets/controls",
            "_model_module_version": "1.5.0",
            "_model_name": "DescriptionStyleModel",
            "_view_count": null,
            "_view_module": "@jupyter-widgets/base",
            "_view_module_version": "1.2.0",
            "_view_name": "StyleView",
            "description_width": ""
          }
        },
        "fe930bdc75c143888203ae65f2c7d9fb": {
          "model_module": "@jupyter-widgets/base",
          "model_name": "LayoutModel",
          "model_module_version": "1.2.0",
          "state": {
            "_model_module": "@jupyter-widgets/base",
            "_model_module_version": "1.2.0",
            "_model_name": "LayoutModel",
            "_view_count": null,
            "_view_module": "@jupyter-widgets/base",
            "_view_module_version": "1.2.0",
            "_view_name": "LayoutView",
            "align_content": null,
            "align_items": null,
            "align_self": null,
            "border": null,
            "bottom": null,
            "display": null,
            "flex": null,
            "flex_flow": null,
            "grid_area": null,
            "grid_auto_columns": null,
            "grid_auto_flow": null,
            "grid_auto_rows": null,
            "grid_column": null,
            "grid_gap": null,
            "grid_row": null,
            "grid_template_areas": null,
            "grid_template_columns": null,
            "grid_template_rows": null,
            "height": null,
            "justify_content": null,
            "justify_items": null,
            "left": null,
            "margin": null,
            "max_height": null,
            "max_width": null,
            "min_height": null,
            "min_width": null,
            "object_fit": null,
            "object_position": null,
            "order": null,
            "overflow": null,
            "overflow_x": null,
            "overflow_y": null,
            "padding": null,
            "right": null,
            "top": null,
            "visibility": null,
            "width": null
          }
        },
        "21978dea4a9449b8889f9a47f98809cf": {
          "model_module": "@jupyter-widgets/controls",
          "model_name": "ProgressStyleModel",
          "model_module_version": "1.5.0",
          "state": {
            "_model_module": "@jupyter-widgets/controls",
            "_model_module_version": "1.5.0",
            "_model_name": "ProgressStyleModel",
            "_view_count": null,
            "_view_module": "@jupyter-widgets/base",
            "_view_module_version": "1.2.0",
            "_view_name": "StyleView",
            "bar_color": null,
            "description_width": ""
          }
        },
        "74869bac0d124109a44a9cdeddb6053f": {
          "model_module": "@jupyter-widgets/base",
          "model_name": "LayoutModel",
          "model_module_version": "1.2.0",
          "state": {
            "_model_module": "@jupyter-widgets/base",
            "_model_module_version": "1.2.0",
            "_model_name": "LayoutModel",
            "_view_count": null,
            "_view_module": "@jupyter-widgets/base",
            "_view_module_version": "1.2.0",
            "_view_name": "LayoutView",
            "align_content": null,
            "align_items": null,
            "align_self": null,
            "border": null,
            "bottom": null,
            "display": null,
            "flex": null,
            "flex_flow": null,
            "grid_area": null,
            "grid_auto_columns": null,
            "grid_auto_flow": null,
            "grid_auto_rows": null,
            "grid_column": null,
            "grid_gap": null,
            "grid_row": null,
            "grid_template_areas": null,
            "grid_template_columns": null,
            "grid_template_rows": null,
            "height": null,
            "justify_content": null,
            "justify_items": null,
            "left": null,
            "margin": null,
            "max_height": null,
            "max_width": null,
            "min_height": null,
            "min_width": null,
            "object_fit": null,
            "object_position": null,
            "order": null,
            "overflow": null,
            "overflow_x": null,
            "overflow_y": null,
            "padding": null,
            "right": null,
            "top": null,
            "visibility": null,
            "width": null
          }
        },
        "2fe469d4daeb480697f3ab27757271a7": {
          "model_module": "@jupyter-widgets/controls",
          "model_name": "DescriptionStyleModel",
          "model_module_version": "1.5.0",
          "state": {
            "_model_module": "@jupyter-widgets/controls",
            "_model_module_version": "1.5.0",
            "_model_name": "DescriptionStyleModel",
            "_view_count": null,
            "_view_module": "@jupyter-widgets/base",
            "_view_module_version": "1.2.0",
            "_view_name": "StyleView",
            "description_width": ""
          }
        },
        "c7b91693c74347488dacaa4be5b90796": {
          "model_module": "@jupyter-widgets/controls",
          "model_name": "HBoxModel",
          "model_module_version": "1.5.0",
          "state": {
            "_dom_classes": [],
            "_model_module": "@jupyter-widgets/controls",
            "_model_module_version": "1.5.0",
            "_model_name": "HBoxModel",
            "_view_count": null,
            "_view_module": "@jupyter-widgets/controls",
            "_view_module_version": "1.5.0",
            "_view_name": "HBoxView",
            "box_style": "",
            "children": [
              "IPY_MODEL_f94731c57ad94d769694b3544482001c",
              "IPY_MODEL_e0390053228c4acbbfeabbb0523d7b76",
              "IPY_MODEL_8f4c53efc74749baa959215a91ce4866"
            ],
            "layout": "IPY_MODEL_a3c58ec3d96a4c098aca2474016dd4c3"
          }
        },
        "f94731c57ad94d769694b3544482001c": {
          "model_module": "@jupyter-widgets/controls",
          "model_name": "HTMLModel",
          "model_module_version": "1.5.0",
          "state": {
            "_dom_classes": [],
            "_model_module": "@jupyter-widgets/controls",
            "_model_module_version": "1.5.0",
            "_model_name": "HTMLModel",
            "_view_count": null,
            "_view_module": "@jupyter-widgets/controls",
            "_view_module_version": "1.5.0",
            "_view_name": "HTMLView",
            "description": "",
            "description_tooltip": null,
            "layout": "IPY_MODEL_980a3ad278774a1da4bb6879668816c8",
            "placeholder": "​",
            "style": "IPY_MODEL_3a3b43c2a57d44b08f8ab30f693e62b5",
            "value": "vocab.txt: 100%"
          }
        },
        "e0390053228c4acbbfeabbb0523d7b76": {
          "model_module": "@jupyter-widgets/controls",
          "model_name": "FloatProgressModel",
          "model_module_version": "1.5.0",
          "state": {
            "_dom_classes": [],
            "_model_module": "@jupyter-widgets/controls",
            "_model_module_version": "1.5.0",
            "_model_name": "FloatProgressModel",
            "_view_count": null,
            "_view_module": "@jupyter-widgets/controls",
            "_view_module_version": "1.5.0",
            "_view_name": "ProgressView",
            "bar_style": "success",
            "description": "",
            "description_tooltip": null,
            "layout": "IPY_MODEL_8ebfdef26824417e87647c64d96b2757",
            "max": 231508,
            "min": 0,
            "orientation": "horizontal",
            "style": "IPY_MODEL_ca2bc824ba3244f0b7d794238281facc",
            "value": 231508
          }
        },
        "8f4c53efc74749baa959215a91ce4866": {
          "model_module": "@jupyter-widgets/controls",
          "model_name": "HTMLModel",
          "model_module_version": "1.5.0",
          "state": {
            "_dom_classes": [],
            "_model_module": "@jupyter-widgets/controls",
            "_model_module_version": "1.5.0",
            "_model_name": "HTMLModel",
            "_view_count": null,
            "_view_module": "@jupyter-widgets/controls",
            "_view_module_version": "1.5.0",
            "_view_name": "HTMLView",
            "description": "",
            "description_tooltip": null,
            "layout": "IPY_MODEL_bbfece45294c4f10b38b99257581b2b7",
            "placeholder": "​",
            "style": "IPY_MODEL_3a9e28fcce0d4d438e6f8369c74b3c31",
            "value": " 232k/232k [00:00&lt;00:00, 2.44MB/s]"
          }
        },
        "a3c58ec3d96a4c098aca2474016dd4c3": {
          "model_module": "@jupyter-widgets/base",
          "model_name": "LayoutModel",
          "model_module_version": "1.2.0",
          "state": {
            "_model_module": "@jupyter-widgets/base",
            "_model_module_version": "1.2.0",
            "_model_name": "LayoutModel",
            "_view_count": null,
            "_view_module": "@jupyter-widgets/base",
            "_view_module_version": "1.2.0",
            "_view_name": "LayoutView",
            "align_content": null,
            "align_items": null,
            "align_self": null,
            "border": null,
            "bottom": null,
            "display": null,
            "flex": null,
            "flex_flow": null,
            "grid_area": null,
            "grid_auto_columns": null,
            "grid_auto_flow": null,
            "grid_auto_rows": null,
            "grid_column": null,
            "grid_gap": null,
            "grid_row": null,
            "grid_template_areas": null,
            "grid_template_columns": null,
            "grid_template_rows": null,
            "height": null,
            "justify_content": null,
            "justify_items": null,
            "left": null,
            "margin": null,
            "max_height": null,
            "max_width": null,
            "min_height": null,
            "min_width": null,
            "object_fit": null,
            "object_position": null,
            "order": null,
            "overflow": null,
            "overflow_x": null,
            "overflow_y": null,
            "padding": null,
            "right": null,
            "top": null,
            "visibility": null,
            "width": null
          }
        },
        "980a3ad278774a1da4bb6879668816c8": {
          "model_module": "@jupyter-widgets/base",
          "model_name": "LayoutModel",
          "model_module_version": "1.2.0",
          "state": {
            "_model_module": "@jupyter-widgets/base",
            "_model_module_version": "1.2.0",
            "_model_name": "LayoutModel",
            "_view_count": null,
            "_view_module": "@jupyter-widgets/base",
            "_view_module_version": "1.2.0",
            "_view_name": "LayoutView",
            "align_content": null,
            "align_items": null,
            "align_self": null,
            "border": null,
            "bottom": null,
            "display": null,
            "flex": null,
            "flex_flow": null,
            "grid_area": null,
            "grid_auto_columns": null,
            "grid_auto_flow": null,
            "grid_auto_rows": null,
            "grid_column": null,
            "grid_gap": null,
            "grid_row": null,
            "grid_template_areas": null,
            "grid_template_columns": null,
            "grid_template_rows": null,
            "height": null,
            "justify_content": null,
            "justify_items": null,
            "left": null,
            "margin": null,
            "max_height": null,
            "max_width": null,
            "min_height": null,
            "min_width": null,
            "object_fit": null,
            "object_position": null,
            "order": null,
            "overflow": null,
            "overflow_x": null,
            "overflow_y": null,
            "padding": null,
            "right": null,
            "top": null,
            "visibility": null,
            "width": null
          }
        },
        "3a3b43c2a57d44b08f8ab30f693e62b5": {
          "model_module": "@jupyter-widgets/controls",
          "model_name": "DescriptionStyleModel",
          "model_module_version": "1.5.0",
          "state": {
            "_model_module": "@jupyter-widgets/controls",
            "_model_module_version": "1.5.0",
            "_model_name": "DescriptionStyleModel",
            "_view_count": null,
            "_view_module": "@jupyter-widgets/base",
            "_view_module_version": "1.2.0",
            "_view_name": "StyleView",
            "description_width": ""
          }
        },
        "8ebfdef26824417e87647c64d96b2757": {
          "model_module": "@jupyter-widgets/base",
          "model_name": "LayoutModel",
          "model_module_version": "1.2.0",
          "state": {
            "_model_module": "@jupyter-widgets/base",
            "_model_module_version": "1.2.0",
            "_model_name": "LayoutModel",
            "_view_count": null,
            "_view_module": "@jupyter-widgets/base",
            "_view_module_version": "1.2.0",
            "_view_name": "LayoutView",
            "align_content": null,
            "align_items": null,
            "align_self": null,
            "border": null,
            "bottom": null,
            "display": null,
            "flex": null,
            "flex_flow": null,
            "grid_area": null,
            "grid_auto_columns": null,
            "grid_auto_flow": null,
            "grid_auto_rows": null,
            "grid_column": null,
            "grid_gap": null,
            "grid_row": null,
            "grid_template_areas": null,
            "grid_template_columns": null,
            "grid_template_rows": null,
            "height": null,
            "justify_content": null,
            "justify_items": null,
            "left": null,
            "margin": null,
            "max_height": null,
            "max_width": null,
            "min_height": null,
            "min_width": null,
            "object_fit": null,
            "object_position": null,
            "order": null,
            "overflow": null,
            "overflow_x": null,
            "overflow_y": null,
            "padding": null,
            "right": null,
            "top": null,
            "visibility": null,
            "width": null
          }
        },
        "ca2bc824ba3244f0b7d794238281facc": {
          "model_module": "@jupyter-widgets/controls",
          "model_name": "ProgressStyleModel",
          "model_module_version": "1.5.0",
          "state": {
            "_model_module": "@jupyter-widgets/controls",
            "_model_module_version": "1.5.0",
            "_model_name": "ProgressStyleModel",
            "_view_count": null,
            "_view_module": "@jupyter-widgets/base",
            "_view_module_version": "1.2.0",
            "_view_name": "StyleView",
            "bar_color": null,
            "description_width": ""
          }
        },
        "bbfece45294c4f10b38b99257581b2b7": {
          "model_module": "@jupyter-widgets/base",
          "model_name": "LayoutModel",
          "model_module_version": "1.2.0",
          "state": {
            "_model_module": "@jupyter-widgets/base",
            "_model_module_version": "1.2.0",
            "_model_name": "LayoutModel",
            "_view_count": null,
            "_view_module": "@jupyter-widgets/base",
            "_view_module_version": "1.2.0",
            "_view_name": "LayoutView",
            "align_content": null,
            "align_items": null,
            "align_self": null,
            "border": null,
            "bottom": null,
            "display": null,
            "flex": null,
            "flex_flow": null,
            "grid_area": null,
            "grid_auto_columns": null,
            "grid_auto_flow": null,
            "grid_auto_rows": null,
            "grid_column": null,
            "grid_gap": null,
            "grid_row": null,
            "grid_template_areas": null,
            "grid_template_columns": null,
            "grid_template_rows": null,
            "height": null,
            "justify_content": null,
            "justify_items": null,
            "left": null,
            "margin": null,
            "max_height": null,
            "max_width": null,
            "min_height": null,
            "min_width": null,
            "object_fit": null,
            "object_position": null,
            "order": null,
            "overflow": null,
            "overflow_x": null,
            "overflow_y": null,
            "padding": null,
            "right": null,
            "top": null,
            "visibility": null,
            "width": null
          }
        },
        "3a9e28fcce0d4d438e6f8369c74b3c31": {
          "model_module": "@jupyter-widgets/controls",
          "model_name": "DescriptionStyleModel",
          "model_module_version": "1.5.0",
          "state": {
            "_model_module": "@jupyter-widgets/controls",
            "_model_module_version": "1.5.0",
            "_model_name": "DescriptionStyleModel",
            "_view_count": null,
            "_view_module": "@jupyter-widgets/base",
            "_view_module_version": "1.2.0",
            "_view_name": "StyleView",
            "description_width": ""
          }
        },
        "d22531d4b8ed4b67bafc94a10a17313c": {
          "model_module": "@jupyter-widgets/controls",
          "model_name": "HBoxModel",
          "model_module_version": "1.5.0",
          "state": {
            "_dom_classes": [],
            "_model_module": "@jupyter-widgets/controls",
            "_model_module_version": "1.5.0",
            "_model_name": "HBoxModel",
            "_view_count": null,
            "_view_module": "@jupyter-widgets/controls",
            "_view_module_version": "1.5.0",
            "_view_name": "HBoxView",
            "box_style": "",
            "children": [
              "IPY_MODEL_78c561d5f8574101acf26adfdf07ba84",
              "IPY_MODEL_7eb72ccd8ffa415bb553cba34e7f8d5c",
              "IPY_MODEL_5f8148e894b6461ca3b9f1c74e3ad8a2"
            ],
            "layout": "IPY_MODEL_20f955e3bad047d9a83ef25e96872fc1"
          }
        },
        "78c561d5f8574101acf26adfdf07ba84": {
          "model_module": "@jupyter-widgets/controls",
          "model_name": "HTMLModel",
          "model_module_version": "1.5.0",
          "state": {
            "_dom_classes": [],
            "_model_module": "@jupyter-widgets/controls",
            "_model_module_version": "1.5.0",
            "_model_name": "HTMLModel",
            "_view_count": null,
            "_view_module": "@jupyter-widgets/controls",
            "_view_module_version": "1.5.0",
            "_view_name": "HTMLView",
            "description": "",
            "description_tooltip": null,
            "layout": "IPY_MODEL_f61e07782aec428ba7713e97d70e016b",
            "placeholder": "​",
            "style": "IPY_MODEL_e985b85ecf47414bb67cd47bc65a19a6",
            "value": "tokenizer.json: 100%"
          }
        },
        "7eb72ccd8ffa415bb553cba34e7f8d5c": {
          "model_module": "@jupyter-widgets/controls",
          "model_name": "FloatProgressModel",
          "model_module_version": "1.5.0",
          "state": {
            "_dom_classes": [],
            "_model_module": "@jupyter-widgets/controls",
            "_model_module_version": "1.5.0",
            "_model_name": "FloatProgressModel",
            "_view_count": null,
            "_view_module": "@jupyter-widgets/controls",
            "_view_module_version": "1.5.0",
            "_view_name": "ProgressView",
            "bar_style": "success",
            "description": "",
            "description_tooltip": null,
            "layout": "IPY_MODEL_acc73fc93f804107931ee9bfffe2aade",
            "max": 466062,
            "min": 0,
            "orientation": "horizontal",
            "style": "IPY_MODEL_1145d68da6e049668c8f79279c1174af",
            "value": 466062
          }
        },
        "5f8148e894b6461ca3b9f1c74e3ad8a2": {
          "model_module": "@jupyter-widgets/controls",
          "model_name": "HTMLModel",
          "model_module_version": "1.5.0",
          "state": {
            "_dom_classes": [],
            "_model_module": "@jupyter-widgets/controls",
            "_model_module_version": "1.5.0",
            "_model_name": "HTMLModel",
            "_view_count": null,
            "_view_module": "@jupyter-widgets/controls",
            "_view_module_version": "1.5.0",
            "_view_name": "HTMLView",
            "description": "",
            "description_tooltip": null,
            "layout": "IPY_MODEL_8bca56ffc7e14f16865e9e4601039a3f",
            "placeholder": "​",
            "style": "IPY_MODEL_b79014b0266f478294c4f650a45f3ead",
            "value": " 466k/466k [00:00&lt;00:00, 4.68MB/s]"
          }
        },
        "20f955e3bad047d9a83ef25e96872fc1": {
          "model_module": "@jupyter-widgets/base",
          "model_name": "LayoutModel",
          "model_module_version": "1.2.0",
          "state": {
            "_model_module": "@jupyter-widgets/base",
            "_model_module_version": "1.2.0",
            "_model_name": "LayoutModel",
            "_view_count": null,
            "_view_module": "@jupyter-widgets/base",
            "_view_module_version": "1.2.0",
            "_view_name": "LayoutView",
            "align_content": null,
            "align_items": null,
            "align_self": null,
            "border": null,
            "bottom": null,
            "display": null,
            "flex": null,
            "flex_flow": null,
            "grid_area": null,
            "grid_auto_columns": null,
            "grid_auto_flow": null,
            "grid_auto_rows": null,
            "grid_column": null,
            "grid_gap": null,
            "grid_row": null,
            "grid_template_areas": null,
            "grid_template_columns": null,
            "grid_template_rows": null,
            "height": null,
            "justify_content": null,
            "justify_items": null,
            "left": null,
            "margin": null,
            "max_height": null,
            "max_width": null,
            "min_height": null,
            "min_width": null,
            "object_fit": null,
            "object_position": null,
            "order": null,
            "overflow": null,
            "overflow_x": null,
            "overflow_y": null,
            "padding": null,
            "right": null,
            "top": null,
            "visibility": null,
            "width": null
          }
        },
        "f61e07782aec428ba7713e97d70e016b": {
          "model_module": "@jupyter-widgets/base",
          "model_name": "LayoutModel",
          "model_module_version": "1.2.0",
          "state": {
            "_model_module": "@jupyter-widgets/base",
            "_model_module_version": "1.2.0",
            "_model_name": "LayoutModel",
            "_view_count": null,
            "_view_module": "@jupyter-widgets/base",
            "_view_module_version": "1.2.0",
            "_view_name": "LayoutView",
            "align_content": null,
            "align_items": null,
            "align_self": null,
            "border": null,
            "bottom": null,
            "display": null,
            "flex": null,
            "flex_flow": null,
            "grid_area": null,
            "grid_auto_columns": null,
            "grid_auto_flow": null,
            "grid_auto_rows": null,
            "grid_column": null,
            "grid_gap": null,
            "grid_row": null,
            "grid_template_areas": null,
            "grid_template_columns": null,
            "grid_template_rows": null,
            "height": null,
            "justify_content": null,
            "justify_items": null,
            "left": null,
            "margin": null,
            "max_height": null,
            "max_width": null,
            "min_height": null,
            "min_width": null,
            "object_fit": null,
            "object_position": null,
            "order": null,
            "overflow": null,
            "overflow_x": null,
            "overflow_y": null,
            "padding": null,
            "right": null,
            "top": null,
            "visibility": null,
            "width": null
          }
        },
        "e985b85ecf47414bb67cd47bc65a19a6": {
          "model_module": "@jupyter-widgets/controls",
          "model_name": "DescriptionStyleModel",
          "model_module_version": "1.5.0",
          "state": {
            "_model_module": "@jupyter-widgets/controls",
            "_model_module_version": "1.5.0",
            "_model_name": "DescriptionStyleModel",
            "_view_count": null,
            "_view_module": "@jupyter-widgets/base",
            "_view_module_version": "1.2.0",
            "_view_name": "StyleView",
            "description_width": ""
          }
        },
        "acc73fc93f804107931ee9bfffe2aade": {
          "model_module": "@jupyter-widgets/base",
          "model_name": "LayoutModel",
          "model_module_version": "1.2.0",
          "state": {
            "_model_module": "@jupyter-widgets/base",
            "_model_module_version": "1.2.0",
            "_model_name": "LayoutModel",
            "_view_count": null,
            "_view_module": "@jupyter-widgets/base",
            "_view_module_version": "1.2.0",
            "_view_name": "LayoutView",
            "align_content": null,
            "align_items": null,
            "align_self": null,
            "border": null,
            "bottom": null,
            "display": null,
            "flex": null,
            "flex_flow": null,
            "grid_area": null,
            "grid_auto_columns": null,
            "grid_auto_flow": null,
            "grid_auto_rows": null,
            "grid_column": null,
            "grid_gap": null,
            "grid_row": null,
            "grid_template_areas": null,
            "grid_template_columns": null,
            "grid_template_rows": null,
            "height": null,
            "justify_content": null,
            "justify_items": null,
            "left": null,
            "margin": null,
            "max_height": null,
            "max_width": null,
            "min_height": null,
            "min_width": null,
            "object_fit": null,
            "object_position": null,
            "order": null,
            "overflow": null,
            "overflow_x": null,
            "overflow_y": null,
            "padding": null,
            "right": null,
            "top": null,
            "visibility": null,
            "width": null
          }
        },
        "1145d68da6e049668c8f79279c1174af": {
          "model_module": "@jupyter-widgets/controls",
          "model_name": "ProgressStyleModel",
          "model_module_version": "1.5.0",
          "state": {
            "_model_module": "@jupyter-widgets/controls",
            "_model_module_version": "1.5.0",
            "_model_name": "ProgressStyleModel",
            "_view_count": null,
            "_view_module": "@jupyter-widgets/base",
            "_view_module_version": "1.2.0",
            "_view_name": "StyleView",
            "bar_color": null,
            "description_width": ""
          }
        },
        "8bca56ffc7e14f16865e9e4601039a3f": {
          "model_module": "@jupyter-widgets/base",
          "model_name": "LayoutModel",
          "model_module_version": "1.2.0",
          "state": {
            "_model_module": "@jupyter-widgets/base",
            "_model_module_version": "1.2.0",
            "_model_name": "LayoutModel",
            "_view_count": null,
            "_view_module": "@jupyter-widgets/base",
            "_view_module_version": "1.2.0",
            "_view_name": "LayoutView",
            "align_content": null,
            "align_items": null,
            "align_self": null,
            "border": null,
            "bottom": null,
            "display": null,
            "flex": null,
            "flex_flow": null,
            "grid_area": null,
            "grid_auto_columns": null,
            "grid_auto_flow": null,
            "grid_auto_rows": null,
            "grid_column": null,
            "grid_gap": null,
            "grid_row": null,
            "grid_template_areas": null,
            "grid_template_columns": null,
            "grid_template_rows": null,
            "height": null,
            "justify_content": null,
            "justify_items": null,
            "left": null,
            "margin": null,
            "max_height": null,
            "max_width": null,
            "min_height": null,
            "min_width": null,
            "object_fit": null,
            "object_position": null,
            "order": null,
            "overflow": null,
            "overflow_x": null,
            "overflow_y": null,
            "padding": null,
            "right": null,
            "top": null,
            "visibility": null,
            "width": null
          }
        },
        "b79014b0266f478294c4f650a45f3ead": {
          "model_module": "@jupyter-widgets/controls",
          "model_name": "DescriptionStyleModel",
          "model_module_version": "1.5.0",
          "state": {
            "_model_module": "@jupyter-widgets/controls",
            "_model_module_version": "1.5.0",
            "_model_name": "DescriptionStyleModel",
            "_view_count": null,
            "_view_module": "@jupyter-widgets/base",
            "_view_module_version": "1.2.0",
            "_view_name": "StyleView",
            "description_width": ""
          }
        },
        "fa938db4021948d9b07eba3ae6e324b4": {
          "model_module": "@jupyter-widgets/controls",
          "model_name": "HBoxModel",
          "model_module_version": "1.5.0",
          "state": {
            "_dom_classes": [],
            "_model_module": "@jupyter-widgets/controls",
            "_model_module_version": "1.5.0",
            "_model_name": "HBoxModel",
            "_view_count": null,
            "_view_module": "@jupyter-widgets/controls",
            "_view_module_version": "1.5.0",
            "_view_name": "HBoxView",
            "box_style": "",
            "children": [
              "IPY_MODEL_6692b0cdeed3401ea122c3dd442889a6",
              "IPY_MODEL_1ea6136f373d4b6ca3778a108b58ceeb",
              "IPY_MODEL_a3aaa5cb83334d47945f68a7c6906dfd"
            ],
            "layout": "IPY_MODEL_23e48bd2731a4cb7b54a69bad1844fbd"
          }
        },
        "6692b0cdeed3401ea122c3dd442889a6": {
          "model_module": "@jupyter-widgets/controls",
          "model_name": "HTMLModel",
          "model_module_version": "1.5.0",
          "state": {
            "_dom_classes": [],
            "_model_module": "@jupyter-widgets/controls",
            "_model_module_version": "1.5.0",
            "_model_name": "HTMLModel",
            "_view_count": null,
            "_view_module": "@jupyter-widgets/controls",
            "_view_module_version": "1.5.0",
            "_view_name": "HTMLView",
            "description": "",
            "description_tooltip": null,
            "layout": "IPY_MODEL_28c87ebe79ee4baaabd11a173e42b04d",
            "placeholder": "​",
            "style": "IPY_MODEL_ac119d1f111b49aa86b9538f14be0d3b",
            "value": "config.json: 100%"
          }
        },
        "1ea6136f373d4b6ca3778a108b58ceeb": {
          "model_module": "@jupyter-widgets/controls",
          "model_name": "FloatProgressModel",
          "model_module_version": "1.5.0",
          "state": {
            "_dom_classes": [],
            "_model_module": "@jupyter-widgets/controls",
            "_model_module_version": "1.5.0",
            "_model_name": "FloatProgressModel",
            "_view_count": null,
            "_view_module": "@jupyter-widgets/controls",
            "_view_module_version": "1.5.0",
            "_view_name": "ProgressView",
            "bar_style": "success",
            "description": "",
            "description_tooltip": null,
            "layout": "IPY_MODEL_f73fd275ba7c41b8b2a34a82dc9bdff4",
            "max": 570,
            "min": 0,
            "orientation": "horizontal",
            "style": "IPY_MODEL_8faec209e99241ec836d55e1189c0f9a",
            "value": 570
          }
        },
        "a3aaa5cb83334d47945f68a7c6906dfd": {
          "model_module": "@jupyter-widgets/controls",
          "model_name": "HTMLModel",
          "model_module_version": "1.5.0",
          "state": {
            "_dom_classes": [],
            "_model_module": "@jupyter-widgets/controls",
            "_model_module_version": "1.5.0",
            "_model_name": "HTMLModel",
            "_view_count": null,
            "_view_module": "@jupyter-widgets/controls",
            "_view_module_version": "1.5.0",
            "_view_name": "HTMLView",
            "description": "",
            "description_tooltip": null,
            "layout": "IPY_MODEL_0e81da42033942cb90232e19455716b7",
            "placeholder": "​",
            "style": "IPY_MODEL_be2ab2087b444d40b9050576e3cc9801",
            "value": " 570/570 [00:00&lt;00:00, 10.3kB/s]"
          }
        },
        "23e48bd2731a4cb7b54a69bad1844fbd": {
          "model_module": "@jupyter-widgets/base",
          "model_name": "LayoutModel",
          "model_module_version": "1.2.0",
          "state": {
            "_model_module": "@jupyter-widgets/base",
            "_model_module_version": "1.2.0",
            "_model_name": "LayoutModel",
            "_view_count": null,
            "_view_module": "@jupyter-widgets/base",
            "_view_module_version": "1.2.0",
            "_view_name": "LayoutView",
            "align_content": null,
            "align_items": null,
            "align_self": null,
            "border": null,
            "bottom": null,
            "display": null,
            "flex": null,
            "flex_flow": null,
            "grid_area": null,
            "grid_auto_columns": null,
            "grid_auto_flow": null,
            "grid_auto_rows": null,
            "grid_column": null,
            "grid_gap": null,
            "grid_row": null,
            "grid_template_areas": null,
            "grid_template_columns": null,
            "grid_template_rows": null,
            "height": null,
            "justify_content": null,
            "justify_items": null,
            "left": null,
            "margin": null,
            "max_height": null,
            "max_width": null,
            "min_height": null,
            "min_width": null,
            "object_fit": null,
            "object_position": null,
            "order": null,
            "overflow": null,
            "overflow_x": null,
            "overflow_y": null,
            "padding": null,
            "right": null,
            "top": null,
            "visibility": null,
            "width": null
          }
        },
        "28c87ebe79ee4baaabd11a173e42b04d": {
          "model_module": "@jupyter-widgets/base",
          "model_name": "LayoutModel",
          "model_module_version": "1.2.0",
          "state": {
            "_model_module": "@jupyter-widgets/base",
            "_model_module_version": "1.2.0",
            "_model_name": "LayoutModel",
            "_view_count": null,
            "_view_module": "@jupyter-widgets/base",
            "_view_module_version": "1.2.0",
            "_view_name": "LayoutView",
            "align_content": null,
            "align_items": null,
            "align_self": null,
            "border": null,
            "bottom": null,
            "display": null,
            "flex": null,
            "flex_flow": null,
            "grid_area": null,
            "grid_auto_columns": null,
            "grid_auto_flow": null,
            "grid_auto_rows": null,
            "grid_column": null,
            "grid_gap": null,
            "grid_row": null,
            "grid_template_areas": null,
            "grid_template_columns": null,
            "grid_template_rows": null,
            "height": null,
            "justify_content": null,
            "justify_items": null,
            "left": null,
            "margin": null,
            "max_height": null,
            "max_width": null,
            "min_height": null,
            "min_width": null,
            "object_fit": null,
            "object_position": null,
            "order": null,
            "overflow": null,
            "overflow_x": null,
            "overflow_y": null,
            "padding": null,
            "right": null,
            "top": null,
            "visibility": null,
            "width": null
          }
        },
        "ac119d1f111b49aa86b9538f14be0d3b": {
          "model_module": "@jupyter-widgets/controls",
          "model_name": "DescriptionStyleModel",
          "model_module_version": "1.5.0",
          "state": {
            "_model_module": "@jupyter-widgets/controls",
            "_model_module_version": "1.5.0",
            "_model_name": "DescriptionStyleModel",
            "_view_count": null,
            "_view_module": "@jupyter-widgets/base",
            "_view_module_version": "1.2.0",
            "_view_name": "StyleView",
            "description_width": ""
          }
        },
        "f73fd275ba7c41b8b2a34a82dc9bdff4": {
          "model_module": "@jupyter-widgets/base",
          "model_name": "LayoutModel",
          "model_module_version": "1.2.0",
          "state": {
            "_model_module": "@jupyter-widgets/base",
            "_model_module_version": "1.2.0",
            "_model_name": "LayoutModel",
            "_view_count": null,
            "_view_module": "@jupyter-widgets/base",
            "_view_module_version": "1.2.0",
            "_view_name": "LayoutView",
            "align_content": null,
            "align_items": null,
            "align_self": null,
            "border": null,
            "bottom": null,
            "display": null,
            "flex": null,
            "flex_flow": null,
            "grid_area": null,
            "grid_auto_columns": null,
            "grid_auto_flow": null,
            "grid_auto_rows": null,
            "grid_column": null,
            "grid_gap": null,
            "grid_row": null,
            "grid_template_areas": null,
            "grid_template_columns": null,
            "grid_template_rows": null,
            "height": null,
            "justify_content": null,
            "justify_items": null,
            "left": null,
            "margin": null,
            "max_height": null,
            "max_width": null,
            "min_height": null,
            "min_width": null,
            "object_fit": null,
            "object_position": null,
            "order": null,
            "overflow": null,
            "overflow_x": null,
            "overflow_y": null,
            "padding": null,
            "right": null,
            "top": null,
            "visibility": null,
            "width": null
          }
        },
        "8faec209e99241ec836d55e1189c0f9a": {
          "model_module": "@jupyter-widgets/controls",
          "model_name": "ProgressStyleModel",
          "model_module_version": "1.5.0",
          "state": {
            "_model_module": "@jupyter-widgets/controls",
            "_model_module_version": "1.5.0",
            "_model_name": "ProgressStyleModel",
            "_view_count": null,
            "_view_module": "@jupyter-widgets/base",
            "_view_module_version": "1.2.0",
            "_view_name": "StyleView",
            "bar_color": null,
            "description_width": ""
          }
        },
        "0e81da42033942cb90232e19455716b7": {
          "model_module": "@jupyter-widgets/base",
          "model_name": "LayoutModel",
          "model_module_version": "1.2.0",
          "state": {
            "_model_module": "@jupyter-widgets/base",
            "_model_module_version": "1.2.0",
            "_model_name": "LayoutModel",
            "_view_count": null,
            "_view_module": "@jupyter-widgets/base",
            "_view_module_version": "1.2.0",
            "_view_name": "LayoutView",
            "align_content": null,
            "align_items": null,
            "align_self": null,
            "border": null,
            "bottom": null,
            "display": null,
            "flex": null,
            "flex_flow": null,
            "grid_area": null,
            "grid_auto_columns": null,
            "grid_auto_flow": null,
            "grid_auto_rows": null,
            "grid_column": null,
            "grid_gap": null,
            "grid_row": null,
            "grid_template_areas": null,
            "grid_template_columns": null,
            "grid_template_rows": null,
            "height": null,
            "justify_content": null,
            "justify_items": null,
            "left": null,
            "margin": null,
            "max_height": null,
            "max_width": null,
            "min_height": null,
            "min_width": null,
            "object_fit": null,
            "object_position": null,
            "order": null,
            "overflow": null,
            "overflow_x": null,
            "overflow_y": null,
            "padding": null,
            "right": null,
            "top": null,
            "visibility": null,
            "width": null
          }
        },
        "be2ab2087b444d40b9050576e3cc9801": {
          "model_module": "@jupyter-widgets/controls",
          "model_name": "DescriptionStyleModel",
          "model_module_version": "1.5.0",
          "state": {
            "_model_module": "@jupyter-widgets/controls",
            "_model_module_version": "1.5.0",
            "_model_name": "DescriptionStyleModel",
            "_view_count": null,
            "_view_module": "@jupyter-widgets/base",
            "_view_module_version": "1.2.0",
            "_view_name": "StyleView",
            "description_width": ""
          }
        },
        "e415003c45c54e8cad9f7692a7b894ea": {
          "model_module": "@jupyter-widgets/controls",
          "model_name": "HBoxModel",
          "model_module_version": "1.5.0",
          "state": {
            "_dom_classes": [],
            "_model_module": "@jupyter-widgets/controls",
            "_model_module_version": "1.5.0",
            "_model_name": "HBoxModel",
            "_view_count": null,
            "_view_module": "@jupyter-widgets/controls",
            "_view_module_version": "1.5.0",
            "_view_name": "HBoxView",
            "box_style": "",
            "children": [
              "IPY_MODEL_2da84b62e2e2453cad5e012046bc3057",
              "IPY_MODEL_ea0198dd36c14bcb98f01258bde4969d",
              "IPY_MODEL_7c14628ab4854e138d2723bb7765a207"
            ],
            "layout": "IPY_MODEL_d43bee87914045b19a9a789e55e0512a"
          }
        },
        "2da84b62e2e2453cad5e012046bc3057": {
          "model_module": "@jupyter-widgets/controls",
          "model_name": "HTMLModel",
          "model_module_version": "1.5.0",
          "state": {
            "_dom_classes": [],
            "_model_module": "@jupyter-widgets/controls",
            "_model_module_version": "1.5.0",
            "_model_name": "HTMLModel",
            "_view_count": null,
            "_view_module": "@jupyter-widgets/controls",
            "_view_module_version": "1.5.0",
            "_view_name": "HTMLView",
            "description": "",
            "description_tooltip": null,
            "layout": "IPY_MODEL_c526cd58f190498e8642e38d31dd2b6a",
            "placeholder": "​",
            "style": "IPY_MODEL_3a6526b1488040aaa084ec918cd3beda",
            "value": "model.safetensors: 100%"
          }
        },
        "ea0198dd36c14bcb98f01258bde4969d": {
          "model_module": "@jupyter-widgets/controls",
          "model_name": "FloatProgressModel",
          "model_module_version": "1.5.0",
          "state": {
            "_dom_classes": [],
            "_model_module": "@jupyter-widgets/controls",
            "_model_module_version": "1.5.0",
            "_model_name": "FloatProgressModel",
            "_view_count": null,
            "_view_module": "@jupyter-widgets/controls",
            "_view_module_version": "1.5.0",
            "_view_name": "ProgressView",
            "bar_style": "success",
            "description": "",
            "description_tooltip": null,
            "layout": "IPY_MODEL_3fe81cc4618f45cabb52fab986515159",
            "max": 440449768,
            "min": 0,
            "orientation": "horizontal",
            "style": "IPY_MODEL_16803ee95a914b6d921028025da222f7",
            "value": 440449768
          }
        },
        "7c14628ab4854e138d2723bb7765a207": {
          "model_module": "@jupyter-widgets/controls",
          "model_name": "HTMLModel",
          "model_module_version": "1.5.0",
          "state": {
            "_dom_classes": [],
            "_model_module": "@jupyter-widgets/controls",
            "_model_module_version": "1.5.0",
            "_model_name": "HTMLModel",
            "_view_count": null,
            "_view_module": "@jupyter-widgets/controls",
            "_view_module_version": "1.5.0",
            "_view_name": "HTMLView",
            "description": "",
            "description_tooltip": null,
            "layout": "IPY_MODEL_3f430ba7a30c4fccbd2960a0aa8942ce",
            "placeholder": "​",
            "style": "IPY_MODEL_3069c2de34d44fddb25c426d93dcf4f7",
            "value": " 440M/440M [00:07&lt;00:00, 18.6MB/s]"
          }
        },
        "d43bee87914045b19a9a789e55e0512a": {
          "model_module": "@jupyter-widgets/base",
          "model_name": "LayoutModel",
          "model_module_version": "1.2.0",
          "state": {
            "_model_module": "@jupyter-widgets/base",
            "_model_module_version": "1.2.0",
            "_model_name": "LayoutModel",
            "_view_count": null,
            "_view_module": "@jupyter-widgets/base",
            "_view_module_version": "1.2.0",
            "_view_name": "LayoutView",
            "align_content": null,
            "align_items": null,
            "align_self": null,
            "border": null,
            "bottom": null,
            "display": null,
            "flex": null,
            "flex_flow": null,
            "grid_area": null,
            "grid_auto_columns": null,
            "grid_auto_flow": null,
            "grid_auto_rows": null,
            "grid_column": null,
            "grid_gap": null,
            "grid_row": null,
            "grid_template_areas": null,
            "grid_template_columns": null,
            "grid_template_rows": null,
            "height": null,
            "justify_content": null,
            "justify_items": null,
            "left": null,
            "margin": null,
            "max_height": null,
            "max_width": null,
            "min_height": null,
            "min_width": null,
            "object_fit": null,
            "object_position": null,
            "order": null,
            "overflow": null,
            "overflow_x": null,
            "overflow_y": null,
            "padding": null,
            "right": null,
            "top": null,
            "visibility": null,
            "width": null
          }
        },
        "c526cd58f190498e8642e38d31dd2b6a": {
          "model_module": "@jupyter-widgets/base",
          "model_name": "LayoutModel",
          "model_module_version": "1.2.0",
          "state": {
            "_model_module": "@jupyter-widgets/base",
            "_model_module_version": "1.2.0",
            "_model_name": "LayoutModel",
            "_view_count": null,
            "_view_module": "@jupyter-widgets/base",
            "_view_module_version": "1.2.0",
            "_view_name": "LayoutView",
            "align_content": null,
            "align_items": null,
            "align_self": null,
            "border": null,
            "bottom": null,
            "display": null,
            "flex": null,
            "flex_flow": null,
            "grid_area": null,
            "grid_auto_columns": null,
            "grid_auto_flow": null,
            "grid_auto_rows": null,
            "grid_column": null,
            "grid_gap": null,
            "grid_row": null,
            "grid_template_areas": null,
            "grid_template_columns": null,
            "grid_template_rows": null,
            "height": null,
            "justify_content": null,
            "justify_items": null,
            "left": null,
            "margin": null,
            "max_height": null,
            "max_width": null,
            "min_height": null,
            "min_width": null,
            "object_fit": null,
            "object_position": null,
            "order": null,
            "overflow": null,
            "overflow_x": null,
            "overflow_y": null,
            "padding": null,
            "right": null,
            "top": null,
            "visibility": null,
            "width": null
          }
        },
        "3a6526b1488040aaa084ec918cd3beda": {
          "model_module": "@jupyter-widgets/controls",
          "model_name": "DescriptionStyleModel",
          "model_module_version": "1.5.0",
          "state": {
            "_model_module": "@jupyter-widgets/controls",
            "_model_module_version": "1.5.0",
            "_model_name": "DescriptionStyleModel",
            "_view_count": null,
            "_view_module": "@jupyter-widgets/base",
            "_view_module_version": "1.2.0",
            "_view_name": "StyleView",
            "description_width": ""
          }
        },
        "3fe81cc4618f45cabb52fab986515159": {
          "model_module": "@jupyter-widgets/base",
          "model_name": "LayoutModel",
          "model_module_version": "1.2.0",
          "state": {
            "_model_module": "@jupyter-widgets/base",
            "_model_module_version": "1.2.0",
            "_model_name": "LayoutModel",
            "_view_count": null,
            "_view_module": "@jupyter-widgets/base",
            "_view_module_version": "1.2.0",
            "_view_name": "LayoutView",
            "align_content": null,
            "align_items": null,
            "align_self": null,
            "border": null,
            "bottom": null,
            "display": null,
            "flex": null,
            "flex_flow": null,
            "grid_area": null,
            "grid_auto_columns": null,
            "grid_auto_flow": null,
            "grid_auto_rows": null,
            "grid_column": null,
            "grid_gap": null,
            "grid_row": null,
            "grid_template_areas": null,
            "grid_template_columns": null,
            "grid_template_rows": null,
            "height": null,
            "justify_content": null,
            "justify_items": null,
            "left": null,
            "margin": null,
            "max_height": null,
            "max_width": null,
            "min_height": null,
            "min_width": null,
            "object_fit": null,
            "object_position": null,
            "order": null,
            "overflow": null,
            "overflow_x": null,
            "overflow_y": null,
            "padding": null,
            "right": null,
            "top": null,
            "visibility": null,
            "width": null
          }
        },
        "16803ee95a914b6d921028025da222f7": {
          "model_module": "@jupyter-widgets/controls",
          "model_name": "ProgressStyleModel",
          "model_module_version": "1.5.0",
          "state": {
            "_model_module": "@jupyter-widgets/controls",
            "_model_module_version": "1.5.0",
            "_model_name": "ProgressStyleModel",
            "_view_count": null,
            "_view_module": "@jupyter-widgets/base",
            "_view_module_version": "1.2.0",
            "_view_name": "StyleView",
            "bar_color": null,
            "description_width": ""
          }
        },
        "3f430ba7a30c4fccbd2960a0aa8942ce": {
          "model_module": "@jupyter-widgets/base",
          "model_name": "LayoutModel",
          "model_module_version": "1.2.0",
          "state": {
            "_model_module": "@jupyter-widgets/base",
            "_model_module_version": "1.2.0",
            "_model_name": "LayoutModel",
            "_view_count": null,
            "_view_module": "@jupyter-widgets/base",
            "_view_module_version": "1.2.0",
            "_view_name": "LayoutView",
            "align_content": null,
            "align_items": null,
            "align_self": null,
            "border": null,
            "bottom": null,
            "display": null,
            "flex": null,
            "flex_flow": null,
            "grid_area": null,
            "grid_auto_columns": null,
            "grid_auto_flow": null,
            "grid_auto_rows": null,
            "grid_column": null,
            "grid_gap": null,
            "grid_row": null,
            "grid_template_areas": null,
            "grid_template_columns": null,
            "grid_template_rows": null,
            "height": null,
            "justify_content": null,
            "justify_items": null,
            "left": null,
            "margin": null,
            "max_height": null,
            "max_width": null,
            "min_height": null,
            "min_width": null,
            "object_fit": null,
            "object_position": null,
            "order": null,
            "overflow": null,
            "overflow_x": null,
            "overflow_y": null,
            "padding": null,
            "right": null,
            "top": null,
            "visibility": null,
            "width": null
          }
        },
        "3069c2de34d44fddb25c426d93dcf4f7": {
          "model_module": "@jupyter-widgets/controls",
          "model_name": "DescriptionStyleModel",
          "model_module_version": "1.5.0",
          "state": {
            "_model_module": "@jupyter-widgets/controls",
            "_model_module_version": "1.5.0",
            "_model_name": "DescriptionStyleModel",
            "_view_count": null,
            "_view_module": "@jupyter-widgets/base",
            "_view_module_version": "1.2.0",
            "_view_name": "StyleView",
            "description_width": ""
          }
        }
      }
    }
  },
  "cells": [
    {
      "cell_type": "code",
      "source": [
        "!pip install transformers torch scikit-learn pandas\n",
        "!pip install fasttext\n",
        "!pip install deap\n",
        "!pip install evaluate"
      ],
      "metadata": {
        "id": "XhzdLUMcsQ04"
      },
      "execution_count": null,
      "outputs": []
    },
    {
      "cell_type": "code",
      "source": [
        "%cd \"/content/drive/MyDrive/project550-main\""
      ],
      "metadata": {
        "colab": {
          "base_uri": "https://localhost:8080/"
        },
        "id": "Q9eLsQEesY4N",
        "outputId": "95189c74-03e7-4aa1-91e3-90fe7746d3a6"
      },
      "execution_count": 6,
      "outputs": [
        {
          "output_type": "stream",
          "name": "stdout",
          "text": [
            "/content/drive/MyDrive/project550-main\n"
          ]
        }
      ]
    },
    {
      "cell_type": "markdown",
      "source": [
        "**BERT serves the purpose of distinguishing dementia from normal cognitive function because of its true prowess in language context and structure, an ability that is especially needed due to impairments that dementia may inflict upon a person's speech and writing. The illuminating insight into subtle linguistic phenomena such as incoherence, repetition, and grammatical errors will accommodate detection of dementia. Pretraining of BERT on very large text corpora permits fine-tuning on small task-related datasets, hence its efficiency in tracking dementia languages. BERT, therefore, tends to outperform previous models with respect to accuracy and sensitivity toward this classification problem.**"
      ],
      "metadata": {
        "id": "lE61QOrIp2PZ"
      }
    },
    {
      "cell_type": "code",
      "execution_count": 7,
      "metadata": {
        "id": "BJS1TZPSpOuU"
      },
      "outputs": [],
      "source": [
        "import random\n",
        "import numpy as np\n",
        "import pandas as pd\n",
        "from sklearn.manifold import TSNE"
      ]
    },
    {
      "cell_type": "markdown",
      "source": [
        "**import utils functions**"
      ],
      "metadata": {
        "id": "Miuoq61EqG77"
      }
    },
    {
      "cell_type": "code",
      "source": [
        "from utils import extract_all_sentences, clean_text\n",
        "from utils_models import *\n",
        "from finetuning_models import genetic_algorithm_fasttext"
      ],
      "metadata": {
        "colab": {
          "base_uri": "https://localhost:8080/"
        },
        "id": "fPMwBh3pqHXt",
        "outputId": "41a954c8-f78f-43ac-b9ad-581b76179ac9"
      },
      "execution_count": 8,
      "outputs": [
        {
          "output_type": "stream",
          "name": "stderr",
          "text": [
            "[nltk_data] Downloading package punkt_tab to /root/nltk_data...\n",
            "[nltk_data]   Unzipping tokenizers/punkt_tab.zip.\n",
            "[nltk_data] Downloading package punkt to /root/nltk_data...\n",
            "[nltk_data]   Unzipping tokenizers/punkt.zip.\n",
            "[nltk_data] Downloading package stopwords to /root/nltk_data...\n",
            "[nltk_data]   Unzipping corpora/stopwords.zip.\n",
            "[nltk_data] Downloading package wordnet to /root/nltk_data...\n",
            "[nltk_data] Downloading package averaged_perceptron_tagger_eng to\n",
            "[nltk_data]     /root/nltk_data...\n",
            "[nltk_data]   Unzipping taggers/averaged_perceptron_tagger_eng.zip.\n",
            "[nltk_data] Downloading package averaged_perceptron_tagger to\n",
            "[nltk_data]     /root/nltk_data...\n",
            "[nltk_data]   Unzipping taggers/averaged_perceptron_tagger.zip.\n"
          ]
        }
      ]
    },
    {
      "cell_type": "markdown",
      "source": [
        "**Extract all sentences for each patient and put into a list. all_sentences is 2D list as an output.**"
      ],
      "metadata": {
        "id": "jrmjCEkmqMpj"
      }
    },
    {
      "cell_type": "code",
      "source": [
        "train_cc = \"ADReSS-IS2020-data/train/transcription/cc\"\n",
        "train_cd = \"ADReSS-IS2020-data/train/transcription/cd\"\n",
        "test = \"ADReSS-IS2020-data-test/test/transcription\"\n",
        "all_sentences_cc = extract_all_sentences(train_cc)\n",
        "all_sentences_cd = extract_all_sentences(train_cd)\n",
        "all_sentences_test = extract_all_sentences(test)"
      ],
      "metadata": {
        "id": "lLz7r8SdqO4o"
      },
      "execution_count": 9,
      "outputs": []
    },
    {
      "cell_type": "markdown",
      "source": [
        "**Apply cleaning step on all_sentences both for training and testing dataset. Output is a 2D list.**"
      ],
      "metadata": {
        "id": "jVDpYX5PqVnd"
      }
    },
    {
      "cell_type": "code",
      "source": [
        "random.seed(42)\n",
        "np.random.seed(42)\n",
        "cleaned_healthy_speech = [\n",
        "    [clean_text(sentence) for sentence in sentence_list]\n",
        "    for sentence_list in all_sentences_cc\n",
        "]\n",
        "\n",
        "cleaned_dementia_speech = [\n",
        "    [clean_text(sentence) for sentence in sentence_list]\n",
        "    for sentence_list in all_sentences_cd\n",
        "]\n",
        "\n",
        "cleaned_test_speech = [\n",
        "    [clean_text(sentence) for sentence in sentence_list]\n",
        "    for sentence_list in all_sentences_test\n",
        "]"
      ],
      "metadata": {
        "id": "tXXSullMqaT5"
      },
      "execution_count": 10,
      "outputs": []
    },
    {
      "cell_type": "markdown",
      "source": [
        "**Combine CC and CD to make training dataset**"
      ],
      "metadata": {
        "id": "9lTSoGQQqgp-"
      }
    },
    {
      "cell_type": "code",
      "source": [
        "cleaned_train_speech = cleaned_healthy_speech + cleaned_dementia_speech"
      ],
      "metadata": {
        "id": "GN1DJoE0qhvQ"
      },
      "execution_count": 11,
      "outputs": []
    },
    {
      "cell_type": "markdown",
      "source": [
        "**Join sentences to make a one single string for each patient in training and test datasets**"
      ],
      "metadata": {
        "id": "ijkkafQKquZO"
      }
    },
    {
      "cell_type": "code",
      "source": [
        "# This is necessary as an input for bert\n",
        "clean_texts_train = [\" \".join(sentences) for sentences in cleaned_train_speech]\n",
        "y_train = [0]*54 + [1]*54\n",
        "\n",
        "clean_texts_test = [\" \".join(sentences) for sentences in cleaned_test_speech]\n",
        "test_data = pd.read_csv(\"ADReSS-IS2020-data-test/test/test_labels.txt\", delimiter=\";\")\n",
        "# Extract test labels\n",
        "y_test = test_data[\"Label \"]"
      ],
      "metadata": {
        "id": "bybhsHhwqvmv"
      },
      "execution_count": 12,
      "outputs": []
    },
    {
      "cell_type": "markdown",
      "source": [
        "**Custom PyTorch Dataset for BERT Model Input and Label Handling**"
      ],
      "metadata": {
        "id": "_uzuID18GesZ"
      }
    },
    {
      "cell_type": "code",
      "source": [
        "from torch.utils.data import Dataset\n",
        "import torch\n",
        "\n",
        "class BERTDataset(Dataset):\n",
        "    def __init__(self, encodings, labels):\n",
        "        self.encodings = encodings\n",
        "        self.labels = labels\n",
        "\n",
        "    def __getitem__(self, idx):\n",
        "        item = {key: torch.tensor(val[idx]) for key, val in self.encodings.items()}\n",
        "        item['labels'] = torch.tensor(self.labels[idx])\n",
        "        return item\n",
        "\n",
        "    def __len__(self):\n",
        "        return len(self.labels)\n"
      ],
      "metadata": {
        "id": "DuXfJw1i0tnK"
      },
      "execution_count": 15,
      "outputs": []
    },
    {
      "cell_type": "markdown",
      "source": [
        "**Tokenization Function and DataLoader Setup for BERT Model**"
      ],
      "metadata": {
        "id": "Gw3R9B6yGpAR"
      }
    },
    {
      "cell_type": "code",
      "source": [
        "from torch.utils.data import Dataset, DataLoader\n",
        "\n",
        "def tokenize_function(texts):\n",
        "    return tokenizer(texts, padding='max_length', truncation=True, max_length=512)"
      ],
      "metadata": {
        "id": "7N1r2ZWd0S44"
      },
      "execution_count": 16,
      "outputs": []
    },
    {
      "cell_type": "code",
      "source": [
        "train_encodings = tokenize_function(clean_texts_train)\n",
        "train_dataset = BERTDataset(train_encodings, y_train)\n",
        "test_encodings = tokenize_function(clean_texts_test)\n",
        "test_dataset = BERTDataset(test_encodings, y_test)"
      ],
      "metadata": {
        "id": "ZvZo0aOt1B2v"
      },
      "execution_count": 17,
      "outputs": []
    },
    {
      "cell_type": "markdown",
      "source": [
        "**Stratified K-Fold Cross-Validation Setup for Model Evaluation**"
      ],
      "metadata": {
        "id": "vgK1s3fDGvbu"
      }
    },
    {
      "cell_type": "code",
      "source": [
        "from sklearn.model_selection import StratifiedKFold\n",
        "\n",
        "kf = StratifiedKFold(n_splits=5, shuffle=True, random_state=42)"
      ],
      "metadata": {
        "id": "dtS8dSBp0d74"
      },
      "execution_count": 18,
      "outputs": []
    },
    {
      "cell_type": "code",
      "source": [
        "import matplotlib.pyplot as plt\n",
        "import pandas as pd\n",
        "\n",
        "def plot_metrics_table(metrics, title=\"BERT Metrics\"):\n",
        "    df = pd.DataFrame(metrics)\n",
        "    df = df.T\n",
        "    df.columns = ['Accuracy', 'Precision', 'Recall', 'F1-Score']\n",
        "    ax = df.plot(kind='bar', figsize=(10, 6))\n",
        "    ax.set_title(title)\n",
        "    ax.set_ylabel('Scores')\n",
        "    plt.show()\n",
        "\n",
        "metrics_cross = {'Accuracy': [], 'Precision': [], 'Recall': [], 'F1-Score': []}"
      ],
      "metadata": {
        "id": "1ujp6un92K-u"
      },
      "execution_count": 19,
      "outputs": []
    },
    {
      "source": [
        "import evaluate\n",
        "from sklearn.metrics import precision_score, recall_score, confusion_matrix, roc_curve, auc\n",
        "\n",
        "accuracy_metric = evaluate.load(\"accuracy\")\n",
        "f1_metric = evaluate.load(\"f1\")\n",
        "\n",
        "def compute_metrics(eval_pred):\n",
        "    logits, labels = eval_pred\n",
        "    predictions = logits.argmax(axis=-1)\n",
        "    accuracy_score = accuracy_metric.compute(predictions=predictions, references=labels)[\"accuracy\"]\n",
        "    f1_score = f1_metric.compute(predictions=predictions, references=labels, average=\"macro\")[\"f1\"]\n",
        "\n",
        "    precision = precision_score(labels, predictions, average=\"macro\")\n",
        "    recall = recall_score(labels, predictions, average=\"macro\")\n",
        "\n",
        "    conf_matrix = confusion_matrix(labels, predictions)\n",
        "\n",
        "    fpr, tpr, thresholds = roc_curve(labels, predictions)\n",
        "    roc_auc = auc(fpr, tpr)\n",
        "\n",
        "    return {\n",
        "        \"accuracy\": accuracy_score,\n",
        "        \"f1\": f1_score,\n",
        "        \"precision\": precision,\n",
        "        \"recall\": recall,\n",
        "        \"roc_auc\": roc_auc\n",
        "    }"
      ],
      "cell_type": "code",
      "metadata": {
        "colab": {
          "base_uri": "https://localhost:8080/",
          "height": 81,
          "referenced_widgets": [
            "f02f46014a7146e3bad555f2623f5882",
            "e89aae7bc32941b0aec74812ecf1f5ea",
            "53c46024d6b7421f97f79970e270c8ec",
            "073f3d581850431f8673572699fdc2ac",
            "f741021dcb154850a261b04bfc1ed5c7",
            "7c86c708c6cc40bba2b9ef6790177f2b",
            "40c229f8a3fa4c27970c81353ddc89a8",
            "c514a455bf96414d92e3ac497ec5e6b6",
            "7a2302c3031344a4a0621b218e2cd195",
            "9ae3429cb78f4999ad1641789a286d74",
            "3e42aed9e841498f8780b05fb91180d0",
            "104f8a24d6d6439595dd826ad8d6b380",
            "4310e7ab5ce34e4b9b5e736008819db0",
            "34939b807f3d45a582695e0ba5e98103",
            "f9791f006f8f46c889872945dc61fc25",
            "883c1e4db8694524988637a2488977a0",
            "d7aba8dcb44144b28257fa5d4b6cb1d2",
            "cb9e3351b2144354b69028c4981d007b",
            "79b6a230af87478baf275e58b86cbf7d",
            "6923ebed4fee48cea7cf3a82a0d43048",
            "483187d5820c4a478558f0ca403af400",
            "cbc748198f2147a4a0a756f87f73483d"
          ]
        },
        "id": "ReL7NSXi6iqK",
        "outputId": "4bdd2de7-0f42-4c13-82d3-f29d09cc324a"
      },
      "execution_count": 20,
      "outputs": [
        {
          "output_type": "display_data",
          "data": {
            "text/plain": [
              "Downloading builder script:   0%|          | 0.00/4.20k [00:00<?, ?B/s]"
            ],
            "application/vnd.jupyter.widget-view+json": {
              "version_major": 2,
              "version_minor": 0,
              "model_id": "f02f46014a7146e3bad555f2623f5882"
            }
          },
          "metadata": {}
        },
        {
          "output_type": "display_data",
          "data": {
            "text/plain": [
              "Downloading builder script:   0%|          | 0.00/6.79k [00:00<?, ?B/s]"
            ],
            "application/vnd.jupyter.widget-view+json": {
              "version_major": 2,
              "version_minor": 0,
              "model_id": "104f8a24d6d6439595dd826ad8d6b380"
            }
          },
          "metadata": {}
        }
      ]
    },
    {
      "cell_type": "markdown",
      "source": [
        "**5-Fold Cross-Validation with BERT using Trainer and Early Stopping**"
      ],
      "metadata": {
        "id": "3rXu4nEjG5x8"
      }
    },
    {
      "cell_type": "code",
      "source": [
        "def train_one_fold(fold, model, tokenizer, train_dataset, train_index, val_index):\n",
        "    print(f\"Training fold {fold + 1}...\")\n",
        "\n",
        "    # Create subsets\n",
        "    train_subset = torch.utils.data.Subset(train_dataset, train_index)\n",
        "    val_subset = torch.utils.data.Subset(train_dataset, val_index)\n",
        "\n",
        "    training_args = TrainingArguments(\n",
        "        output_dir=f\"./results/fold_{fold+1}\",\n",
        "        num_train_epochs=10,\n",
        "        per_device_train_batch_size=4,\n",
        "        per_device_eval_batch_size=4,\n",
        "        eval_strategy=\"epoch\",\n",
        "        save_strategy=\"epoch\",\n",
        "        seed=42,\n",
        "        weight_decay=0.01,\n",
        "        logging_dir=f\"./logs/fold_{fold+1}\",\n",
        "        logging_strategy=\"epoch\",\n",
        "        logging_steps=1,\n",
        "        report_to=\"none\",\n",
        "        load_best_model_at_end=True\n",
        "    )\n",
        "\n",
        "    trainer = Trainer(\n",
        "        model=model,\n",
        "        args=training_args,\n",
        "        train_dataset=train_subset,\n",
        "        eval_dataset=val_subset,\n",
        "        tokenizer=tokenizer,\n",
        "        compute_metrics=compute_metrics,\n",
        "        callbacks=[EarlyStoppingCallback(early_stopping_patience=3)],\n",
        "    )\n",
        "\n",
        "    trainer.train()\n",
        "    predictions, label_ids, _ = trainer.predict(val_subset)\n",
        "    preds = predictions.argmax(axis=-1)\n",
        "\n",
        "    accuracy = accuracy_score(label_ids, preds)\n",
        "    precision, recall, f1, _ = precision_recall_fscore_support(label_ids, preds, average='binary')\n",
        "\n",
        "    print(f\"Fold {fold + 1} metrics:\")\n",
        "    print(f\"Accuracy: {accuracy:.4f}, Precision: {precision:.4f}, Recall: {recall:.4f}, F1-Score: {f1:.4f}\")\n",
        "\n",
        "    return {\n",
        "        'Accuracy': accuracy,\n",
        "        'Precision': precision,\n",
        "        'Recall': recall,\n",
        "        'F1-Score': f1\n",
        "    }\n"
      ],
      "metadata": {
        "id": "ejlXTNlQTWuA"
      },
      "execution_count": null,
      "outputs": []
    },
    {
      "cell_type": "markdown",
      "source": [
        "**Full Cross_Validation**"
      ],
      "metadata": {
        "id": "7Ii_kg8UTY3E"
      }
    },
    {
      "cell_type": "code",
      "source": [
        "def cross_validate(model, tokenizer, train_dataset, kf, y_train):\n",
        "    metrics_cross = {\n",
        "        'Accuracy': [],\n",
        "        'Precision': [],\n",
        "        'Recall': [],\n",
        "        'F1-Score': []\n",
        "    }\n",
        "\n",
        "    for fold, (train_index, val_index) in enumerate(kf.split(train_dataset, y_train)):\n",
        "        fold_metrics = train_one_fold(fold, model, tokenizer, train_dataset, train_index, val_index)\n",
        "        for key in metrics_cross:\n",
        "            metrics_cross[key].append(fold_metrics[key])\n",
        "\n",
        "    return metrics_cross"
      ],
      "metadata": {
        "id": "lLyZpQ7BTdZj"
      },
      "execution_count": null,
      "outputs": []
    },
    {
      "cell_type": "markdown",
      "source": [
        "**Model Evaluation on Test Set with Metrics Calculation**"
      ],
      "metadata": {
        "id": "tAqh8xRRHA7c"
      }
    },
    {
      "cell_type": "code",
      "source": [
        "from sklearn.metrics import accuracy_score, precision_recall_fscore_support\n",
        "\n",
        "def evaluate_on_test_set(trainer, test_dataset, average='binary'):\n",
        "    trainer.model.eval()\n",
        "\n",
        "    predictions, label_ids, _ = trainer.predict(test_dataset)\n",
        "    preds = predictions.argmax(axis=-1)\n",
        "\n",
        "    accuracy = accuracy_score(label_ids, preds)\n",
        "    precision, recall, f1, _ = precision_recall_fscore_support(label_ids, preds, average=average)\n",
        "\n",
        "    metrics_test = {\n",
        "        'Accuracy': [accuracy],\n",
        "        'Precision': [precision],\n",
        "        'Recall': [recall],\n",
        "        'F1-Score': [f1]\n",
        "    }\n",
        "\n",
        "    print(\"\\nTest Set Metrics:\")\n",
        "    print(f\"Accuracy: {accuracy:.4f}, Precision: {precision:.4f}, Recall: {recall:.4f}, F1-Score: {f1:.4f}\")\n",
        "\n",
        "    return metrics_test\n"
      ],
      "metadata": {
        "id": "w-BcsqkgU6sO"
      },
      "execution_count": null,
      "outputs": []
    },
    {
      "cell_type": "markdown",
      "source": [
        "**1.1 BertForSequenceClassification:**\n",
        "\n",
        "Fine-tunes BERT with a classification head for end-to-end training and direct class predictions, making it ideal for classification tasks."
      ],
      "metadata": {
        "id": "KKbjmTDpr6X5"
      }
    },
    {
      "source": [
        "from transformers import BertForSequenceClassification, BertTokenizer # Import BertTokenizer\n",
        "\n",
        "tokenizer = BertTokenizer.from_pretrained(\"bert-base-uncased\")\n",
        "model_BertForSequenceClassification = BertForSequenceClassification.from_pretrained(\"bert-base-uncased\", num_labels=2)"
      ],
      "cell_type": "code",
      "metadata": {
        "colab": {
          "base_uri": "https://localhost:8080/",
          "height": 336,
          "referenced_widgets": [
            "9ca12122fc654548bdd4932a15cdc7f7",
            "130184d749ad434ebe4c4879b255f50d",
            "14d12048c7094e029086049175215066",
            "53ed29c0c8e04207a816fe683a9db79a",
            "867ab75355444cb58e01d79edb9a8e88",
            "86e03017b9184f718cdf662b7666c668",
            "ce3880e77a9946e797618c39586449c7",
            "fe930bdc75c143888203ae65f2c7d9fb",
            "21978dea4a9449b8889f9a47f98809cf",
            "74869bac0d124109a44a9cdeddb6053f",
            "2fe469d4daeb480697f3ab27757271a7",
            "c7b91693c74347488dacaa4be5b90796",
            "f94731c57ad94d769694b3544482001c",
            "e0390053228c4acbbfeabbb0523d7b76",
            "8f4c53efc74749baa959215a91ce4866",
            "a3c58ec3d96a4c098aca2474016dd4c3",
            "980a3ad278774a1da4bb6879668816c8",
            "3a3b43c2a57d44b08f8ab30f693e62b5",
            "8ebfdef26824417e87647c64d96b2757",
            "ca2bc824ba3244f0b7d794238281facc",
            "bbfece45294c4f10b38b99257581b2b7",
            "3a9e28fcce0d4d438e6f8369c74b3c31",
            "d22531d4b8ed4b67bafc94a10a17313c",
            "78c561d5f8574101acf26adfdf07ba84",
            "7eb72ccd8ffa415bb553cba34e7f8d5c",
            "5f8148e894b6461ca3b9f1c74e3ad8a2",
            "20f955e3bad047d9a83ef25e96872fc1",
            "f61e07782aec428ba7713e97d70e016b",
            "e985b85ecf47414bb67cd47bc65a19a6",
            "acc73fc93f804107931ee9bfffe2aade",
            "1145d68da6e049668c8f79279c1174af",
            "8bca56ffc7e14f16865e9e4601039a3f",
            "b79014b0266f478294c4f650a45f3ead",
            "fa938db4021948d9b07eba3ae6e324b4",
            "6692b0cdeed3401ea122c3dd442889a6",
            "1ea6136f373d4b6ca3778a108b58ceeb",
            "a3aaa5cb83334d47945f68a7c6906dfd",
            "23e48bd2731a4cb7b54a69bad1844fbd",
            "28c87ebe79ee4baaabd11a173e42b04d",
            "ac119d1f111b49aa86b9538f14be0d3b",
            "f73fd275ba7c41b8b2a34a82dc9bdff4",
            "8faec209e99241ec836d55e1189c0f9a",
            "0e81da42033942cb90232e19455716b7",
            "be2ab2087b444d40b9050576e3cc9801",
            "e415003c45c54e8cad9f7692a7b894ea",
            "2da84b62e2e2453cad5e012046bc3057",
            "ea0198dd36c14bcb98f01258bde4969d",
            "7c14628ab4854e138d2723bb7765a207",
            "d43bee87914045b19a9a789e55e0512a",
            "c526cd58f190498e8642e38d31dd2b6a",
            "3a6526b1488040aaa084ec918cd3beda",
            "3fe81cc4618f45cabb52fab986515159",
            "16803ee95a914b6d921028025da222f7",
            "3f430ba7a30c4fccbd2960a0aa8942ce",
            "3069c2de34d44fddb25c426d93dcf4f7"
          ]
        },
        "id": "IY2r9ZjVIZaw",
        "outputId": "53a3c6e8-6db2-48be-acda-afded9658217"
      },
      "execution_count": 14,
      "outputs": [
        {
          "output_type": "stream",
          "name": "stderr",
          "text": [
            "/usr/local/lib/python3.11/dist-packages/huggingface_hub/utils/_auth.py:94: UserWarning: \n",
            "The secret `HF_TOKEN` does not exist in your Colab secrets.\n",
            "To authenticate with the Hugging Face Hub, create a token in your settings tab (https://huggingface.co/settings/tokens), set it as secret in your Google Colab and restart your session.\n",
            "You will be able to reuse this secret in all of your notebooks.\n",
            "Please note that authentication is recommended but still optional to access public models or datasets.\n",
            "  warnings.warn(\n"
          ]
        },
        {
          "output_type": "display_data",
          "data": {
            "text/plain": [
              "tokenizer_config.json:   0%|          | 0.00/48.0 [00:00<?, ?B/s]"
            ],
            "application/vnd.jupyter.widget-view+json": {
              "version_major": 2,
              "version_minor": 0,
              "model_id": "9ca12122fc654548bdd4932a15cdc7f7"
            }
          },
          "metadata": {}
        },
        {
          "output_type": "display_data",
          "data": {
            "text/plain": [
              "vocab.txt:   0%|          | 0.00/232k [00:00<?, ?B/s]"
            ],
            "application/vnd.jupyter.widget-view+json": {
              "version_major": 2,
              "version_minor": 0,
              "model_id": "c7b91693c74347488dacaa4be5b90796"
            }
          },
          "metadata": {}
        },
        {
          "output_type": "display_data",
          "data": {
            "text/plain": [
              "tokenizer.json:   0%|          | 0.00/466k [00:00<?, ?B/s]"
            ],
            "application/vnd.jupyter.widget-view+json": {
              "version_major": 2,
              "version_minor": 0,
              "model_id": "d22531d4b8ed4b67bafc94a10a17313c"
            }
          },
          "metadata": {}
        },
        {
          "output_type": "display_data",
          "data": {
            "text/plain": [
              "config.json:   0%|          | 0.00/570 [00:00<?, ?B/s]"
            ],
            "application/vnd.jupyter.widget-view+json": {
              "version_major": 2,
              "version_minor": 0,
              "model_id": "fa938db4021948d9b07eba3ae6e324b4"
            }
          },
          "metadata": {}
        },
        {
          "output_type": "display_data",
          "data": {
            "text/plain": [
              "model.safetensors:   0%|          | 0.00/440M [00:00<?, ?B/s]"
            ],
            "application/vnd.jupyter.widget-view+json": {
              "version_major": 2,
              "version_minor": 0,
              "model_id": "e415003c45c54e8cad9f7692a7b894ea"
            }
          },
          "metadata": {}
        },
        {
          "output_type": "stream",
          "name": "stderr",
          "text": [
            "Some weights of BertForSequenceClassification were not initialized from the model checkpoint at bert-base-uncased and are newly initialized: ['classifier.bias', 'classifier.weight']\n",
            "You should probably TRAIN this model on a down-stream task to be able to use it for predictions and inference.\n"
          ]
        }
      ]
    },
    {
      "cell_type": "code",
      "source": [
        "metrics = cross_validate(model_BertForSequenceClassification, tokenizer, train_dataset, kf, y_train)\n",
        "print(\"Cross-Validation Metrics:\")\n",
        "print(metrics)"
      ],
      "metadata": {
        "id": "sPV0gzM6TlMg"
      },
      "execution_count": null,
      "outputs": []
    },
    {
      "cell_type": "markdown",
      "source": [
        "**Test data**"
      ],
      "metadata": {
        "id": "d0XBDyRbVDkn"
      }
    },
    {
      "cell_type": "code",
      "source": [
        "metrics_test = evaluate_on_test_set(trainer, test_dataset)\n",
        "print(\"Cross-Validation Metrics:\")\n",
        "print(metrics)"
      ],
      "metadata": {
        "id": "8jhVcN_R5xjZ"
      },
      "execution_count": null,
      "outputs": []
    },
    {
      "cell_type": "markdown",
      "source": [
        "**1.2 Bert for feature extraction and\n",
        "CNN Classification**\n",
        "\n",
        "This model combines BERT with a CNN architecture for text classification. It first uses a pre-trained BERT model to extract contextualized token embeddings from the input text. The output from BERT’s last hidden layer is then transposed and passed through several 1D convolutional layers with varying kernel sizes (2, 3, 4), each followed by a ReLU activation and max pooling across the sequence. The resulting feature maps are concatenated, passed through a dropout layer for regularization, and finally fed into a fully connected layer to produce logits for classification. If labels are provided during the forward pass, the model also computes the cross-entropy loss."
      ],
      "metadata": {
        "id": "cAwMTuLWRzv_"
      }
    },
    {
      "cell_type": "code",
      "source": [
        "import torch\n",
        "import torch.nn as nn\n",
        "from transformers import BertModel\n",
        "\n",
        "class BERT_CNN_Classifier(nn.Module):\n",
        "    def __init__(self, bert_model_name=\"bert-base-uncased\", num_labels=2):\n",
        "        super(BERT_CNN_Classifier, self).__init__()\n",
        "        self.bert = BertModel.from_pretrained(bert_model_name)\n",
        "        self.convs = nn.ModuleList([\n",
        "            nn.Conv1d(in_channels=768, out_channels=100, kernel_size=k)\n",
        "            for k in [2, 3, 4]\n",
        "        ])\n",
        "        self.dropout = nn.Dropout(0.3)\n",
        "        self.fc = nn.Linear(len(self.convs) * 100, num_labels)\n",
        "\n",
        "    def forward(self, input_ids, attention_mask=None, token_type_ids=None, labels=None):\n",
        "        outputs = self.bert(input_ids, attention_mask=attention_mask, token_type_ids=token_type_ids)\n",
        "        last_hidden_state = outputs.last_hidden_state\n",
        "        x = last_hidden_state.transpose(1, 2)\n",
        "        # Apply CNN + ReLU + MaxPool\n",
        "        x = [torch.relu(conv(x)).max(dim=2)[0] for conv in self.convs]\n",
        "        x = torch.cat(x, dim=1)\n",
        "        # Dropout\n",
        "        x = self.dropout(x)\n",
        "        logits = self.fc(x)\n",
        "\n",
        "        loss = None\n",
        "        if labels is not None:\n",
        "            loss_fn = nn.CrossEntropyLoss()\n",
        "            loss = loss_fn(logits, labels)\n",
        "\n",
        "        return {'loss': loss, 'logits': logits}\n"
      ],
      "metadata": {
        "id": "BxZgHeWiR9kv"
      },
      "execution_count": null,
      "outputs": []
    },
    {
      "cell_type": "code",
      "source": [
        "model_BERT_CNN_Classifier = BERT_CNN_Classifier(\"bert-base-uncased\", num_labels=2)"
      ],
      "metadata": {
        "id": "Y3n2HgRqSQWJ"
      },
      "execution_count": null,
      "outputs": []
    },
    {
      "cell_type": "code",
      "source": [
        "metrics = cross_validate(model_BERT_CNN_Classifier, tokenizer, train_dataset, kf, y_train)\n",
        "print(\"Cross-Validation Metrics:\")\n",
        "print(metrics)"
      ],
      "metadata": {
        "id": "5ovz6N-AVXjk"
      },
      "execution_count": null,
      "outputs": []
    },
    {
      "cell_type": "markdown",
      "source": [
        "**Test data**"
      ],
      "metadata": {
        "id": "srFrjJL-Vavc"
      }
    },
    {
      "cell_type": "code",
      "source": [
        "metrics_test = evaluate_on_test_set(trainer, test_dataset)\n",
        "print(\"Cross-Validation Metrics:\")\n",
        "print(metrics)"
      ],
      "metadata": {
        "id": "1zdsUgQCVZCF"
      },
      "execution_count": null,
      "outputs": []
    },
    {
      "cell_type": "markdown",
      "source": [
        "**1.3 Freezing the First Two Layers of BERT for Fine-Tuning**\n",
        "\n",
        "This code freezes the weights of the first two layers of the BERT model during training. By iterating over the model's parameters, it checks if the parameter belongs to the first or second encoder layers (layer 0 or layer 1), and sets requires_grad to False for these layers, preventing their weights from being updated during backpropagation. This technique is commonly used in transfer learning when you want to retain the general features learned by earlier layers of the model and only fine-tune the higher layers for a specific task, saving computational resources and reducing the risk of overfitting."
      ],
      "metadata": {
        "id": "bET1-nwMWFHO"
      }
    },
    {
      "cell_type": "code",
      "source": [
        "model_BERT_CNN_Classifier = BERT_CNN_Classifier(\"bert-base-uncased\", num_labels=2)"
      ],
      "metadata": {
        "id": "vyx7U8VWdcY2"
      },
      "execution_count": null,
      "outputs": []
    },
    {
      "cell_type": "code",
      "source": [
        "for name, param in model_BERT_CNN_Classifier.bert.named_parameters():\n",
        "    if \"encoder.layer.0\" in name or \"encoder.layer.1\" in name:\n",
        "        param.requires_grad = False\n"
      ],
      "metadata": {
        "id": "Kd-w5JPyWOMv"
      },
      "execution_count": null,
      "outputs": []
    },
    {
      "cell_type": "code",
      "source": [
        "metrics = cross_validate(model_BERT_CNN_Classifier, tokenizer, train_dataset, kf, y_train)\n",
        "print(\"Cross-Validation Metrics:\")\n",
        "print(metrics)"
      ],
      "metadata": {
        "id": "PuUyaLpKWOJT"
      },
      "execution_count": null,
      "outputs": []
    },
    {
      "cell_type": "markdown",
      "source": [
        "**Test data**"
      ],
      "metadata": {
        "id": "ouggoN2yXEKp"
      }
    },
    {
      "cell_type": "code",
      "source": [
        "metrics_test = evaluate_on_test_set(trainer, test_dataset)\n",
        "print(\"Cross-Validation Metrics:\")\n",
        "print(metrics)"
      ],
      "metadata": {
        "id": "xrEoGhb1WNGG"
      },
      "execution_count": null,
      "outputs": []
    },
    {
      "cell_type": "markdown",
      "source": [
        "----------------"
      ],
      "metadata": {
        "id": "QwdTDOf0dNGR"
      }
    },
    {
      "cell_type": "markdown",
      "source": [
        "**2. BERT Token Embeddings**\n",
        "\n",
        "Extracts token embeddings from BERT for use in a separate classifier ( SVM or logistic regression), offering more flexibility but requiring additional training and setup.(by default 768 features)"
      ],
      "metadata": {
        "id": "IfGoQyJnsjhA"
      }
    },
    {
      "cell_type": "code",
      "source": [
        "from transformers import BertTokenizer, BertModel\n",
        "\n",
        "tokenizer = BertTokenizer.from_pretrained(\"bert-base-uncased\")\n",
        "bert_model = BertModel.from_pretrained(\"bert-base-uncased\")"
      ],
      "metadata": {
        "id": "mnczWpLK94Ej"
      },
      "execution_count": 93,
      "outputs": []
    },
    {
      "cell_type": "code",
      "source": [
        "import torch\n",
        "\n",
        "def get_bert_token_embeddings(text):\n",
        "    inputs = tokenizer(text, return_tensors=\"pt\", truncation=True, padding=\"max_length\", max_length=128)\n",
        "    with torch.no_grad():\n",
        "        outputs = bert_model(**inputs)\n",
        "    return outputs.last_hidden_state.squeeze(0)  # Shape: (seq_len, 768)\n",
        "\n",
        "\n",
        "bert_embeddings = [get_bert_token_embeddings(text) for text in clean_texts_train]\n",
        "X = np.array(bert_embeddings)\n",
        "y = np.array(y_train)\n",
        "\n",
        "bert_embeddings_test = [get_bert_token_embeddings(text) for text in clean_texts_test]\n",
        "X_test = np.array(bert_embeddings_test)\n",
        "y1_test = np.array(y_test)"
      ],
      "metadata": {
        "id": "wXXZ5Or3soKX"
      },
      "execution_count": 94,
      "outputs": []
    },
    {
      "cell_type": "markdown",
      "source": [
        "**Normalize data**"
      ],
      "metadata": {
        "id": "3H7V7JIh_CYk"
      }
    },
    {
      "cell_type": "code",
      "source": [
        "from sklearn.preprocessing import StandardScaler\n",
        "\n",
        "scaler = StandardScaler()\n",
        "X_scaled = scaler.fit_transform(X)\n",
        "X_test_scaled = scaler.fit_transform(X_test)"
      ],
      "metadata": {
        "id": "W7euB7H8LkqE"
      },
      "execution_count": null,
      "outputs": []
    },
    {
      "cell_type": "markdown",
      "source": [
        "**Cross-validation with normalized x and default y**"
      ],
      "metadata": {
        "id": "CdZFHFgmtv5n"
      }
    },
    {
      "cell_type": "code",
      "source": [
        "from sklearn.model_selection import cross_validate\n",
        "from sklearn.linear_model import LogisticRegression\n",
        "from sklearn.svm import SVC\n",
        "from sklearn.ensemble import RandomForestClassifier\n",
        "from sklearn.ensemble import GradientBoostingClassifier\n",
        "from sklearn.neighbors import KNeighborsClassifier\n",
        "\n",
        "models = {\n",
        "    'Logistic Regression': LogisticRegression(max_iter=5000),\n",
        "    'SVM': SVC(kernel='linear'),\n",
        "    'Random Forest': RandomForestClassifier(n_estimators=100, random_state=42),\n",
        "    'Gradient Boosting': GradientBoostingClassifier(n_estimators=100, learning_rate=0.1),\n",
        "    'KNN': KNeighborsClassifier(n_neighbors=5),\n",
        "}\n",
        "\n",
        "scoring = ['accuracy', 'precision', 'recall', 'f1', 'roc_auc']"
      ],
      "metadata": {
        "id": "wD8k6fBwtqnY"
      },
      "execution_count": 91,
      "outputs": []
    },
    {
      "cell_type": "markdown",
      "source": [
        "**Print Results**"
      ],
      "metadata": {
        "id": "goWguB2TuDmY"
      }
    },
    {
      "cell_type": "code",
      "source": [
        "for model_name, model in models.items():\n",
        "    print(f\"\\nEvaluating {model_name}...\")\n",
        "    cv_results = cross_validate(model, X_scaled, y, cv=5, scoring=scoring)\n",
        "    print(f\"\\n{model_name} Average Metrics (5-Fold Cross-Validation):\")\n",
        "    for score in scoring:\n",
        "        avg = np.mean(cv_results[f'test_{score}'])\n",
        "        print(f\"{score.title()}: {avg:.3f}\")"
      ],
      "metadata": {
        "colab": {
          "base_uri": "https://localhost:8080/"
        },
        "id": "HZk4FzgCuEUS",
        "outputId": "f53f441b-d5fc-47da-f61f-f1934eef3249"
      },
      "execution_count": 92,
      "outputs": [
        {
          "output_type": "stream",
          "name": "stdout",
          "text": [
            "\n",
            "Evaluating Logistic Regression...\n",
            "\n",
            "Logistic Regression Average Metrics (5-Fold Cross-Validation):\n",
            "Accuracy: 0.750\n",
            "Precision: 0.772\n",
            "Recall: 0.704\n",
            "F1: 0.730\n",
            "Roc_Auc: 0.839\n",
            "\n",
            "Evaluating SVM...\n",
            "\n",
            "SVM Average Metrics (5-Fold Cross-Validation):\n",
            "Accuracy: 0.741\n",
            "Precision: 0.755\n",
            "Recall: 0.704\n",
            "F1: 0.723\n",
            "Roc_Auc: 0.826\n",
            "\n",
            "Evaluating Random Forest...\n",
            "\n",
            "Random Forest Average Metrics (5-Fold Cross-Validation):\n",
            "Accuracy: 0.648\n",
            "Precision: 0.659\n",
            "Recall: 0.629\n",
            "F1: 0.642\n",
            "Roc_Auc: 0.692\n",
            "\n",
            "Evaluating Gradient Boosting...\n",
            "\n",
            "Gradient Boosting Average Metrics (5-Fold Cross-Validation):\n",
            "Accuracy: 0.649\n",
            "Precision: 0.681\n",
            "Recall: 0.593\n",
            "F1: 0.628\n",
            "Roc_Auc: 0.699\n",
            "\n",
            "Evaluating KNN...\n",
            "\n",
            "KNN Average Metrics (5-Fold Cross-Validation):\n",
            "Accuracy: 0.575\n",
            "Precision: 0.588\n",
            "Recall: 0.504\n",
            "F1: 0.539\n",
            "Roc_Auc: 0.590\n"
          ]
        }
      ]
    },
    {
      "cell_type": "markdown",
      "source": [
        "**2.2 Build a Simple CNN for Text Classification**"
      ],
      "metadata": {
        "id": "dqek8UBRwOpn"
      }
    },
    {
      "cell_type": "code",
      "source": [
        "import torch.nn as nn\n",
        "import torch.nn.functional as F\n",
        "\n",
        "class CNNClassifier(nn.Module):\n",
        "    def __init__(self, embedding_dim=768, num_classes=2):\n",
        "        super(CNNClassifier, self).__init__()\n",
        "        self.conv1 = nn.Conv1d(in_channels=embedding_dim, out_channels=100, kernel_size=3)\n",
        "        self.conv2 = nn.Conv1d(in_channels=embedding_dim, out_channels=100, kernel_size=4)\n",
        "        self.conv3 = nn.Conv1d(in_channels=embedding_dim, out_channels=100, kernel_size=5)\n",
        "        self.dropout = nn.Dropout(0.5)\n",
        "        self.fc = nn.Linear(3 * 100, num_classes)\n",
        "\n",
        "    def forward(self, x):\n",
        "        x = x.permute(0, 2, 1)  # (batch_size, embedding_dim, seq_len)\n",
        "        x1 = F.relu(self.conv1(x)).max(dim=2)[0]\n",
        "        x2 = F.relu(self.conv2(x)).max(dim=2)[0]\n",
        "        x3 = F.relu(self.conv3(x)).max(dim=2)[0]\n",
        "        x = torch.cat((x1, x2, x3), dim=1)\n",
        "        x = self.dropout(x)\n",
        "        return self.fc(x)\n"
      ],
      "metadata": {
        "id": "81UgUUXJJPWw"
      },
      "execution_count": null,
      "outputs": []
    },
    {
      "cell_type": "code",
      "source": [
        "device = torch.device(\"cuda\" if torch.cuda.is_available() else \"cpu\")\n",
        "model = CNNClassifier().to(device)\n",
        "\n",
        "criterion = nn.CrossEntropyLoss()\n",
        "optimizer = torch.optim.Adam(model.parameters(), lr=1e-4)"
      ],
      "metadata": {
        "id": "gJDqmWV7wY0A"
      },
      "execution_count": 35,
      "outputs": []
    },
    {
      "cell_type": "markdown",
      "source": [
        "**Prepare Input to Feed into CNN**"
      ],
      "metadata": {
        "id": "lg92TCPrwW7R"
      }
    },
    {
      "cell_type": "code",
      "source": [
        "def get_bert_token_embeddings(text, max_len=128):\n",
        "    inputs = tokenizer(text, return_tensors=\"pt\", truncation=True, padding=\"max_length\", max_length=max_len)\n",
        "    with torch.no_grad():\n",
        "        outputs = bert_model(**inputs)\n",
        "    last_hidden_state = outputs.last_hidden_state.squeeze(0)  # shape: (seq_len, 768)\n",
        "\n",
        "    # Ensure consistent shape\n",
        "    if last_hidden_state.shape[0] < max_len:\n",
        "        pad_len = max_len - last_hidden_state.shape[0]\n",
        "        pad = torch.zeros(pad_len, last_hidden_state.shape[1])\n",
        "        last_hidden_state = torch.cat([last_hidden_state, pad], dim=0)\n",
        "    elif last_hidden_state.shape[0] > max_len:\n",
        "        last_hidden_state = last_hidden_state[:max_len, :]\n",
        "\n",
        "    return last_hidden_state  # shape: (128, 768)\n"
      ],
      "metadata": {
        "id": "5k2kAJilwSZD"
      },
      "execution_count": 44,
      "outputs": []
    },
    {
      "cell_type": "code",
      "source": [
        "from sklearn.metrics import classification_report\n",
        "import numpy as np\n",
        "\n",
        "device = torch.device(\"cuda\" if torch.cuda.is_available() else \"cpu\")\n",
        "bert_embeddings = [get_bert_token_embeddings(text) for text in clean_texts_train]\n",
        "X = np.array(bert_embeddings)\n",
        "y = np.array(y_train)\n",
        "\n",
        "bert_embeddings_test = [get_bert_token_embeddings(text) for text in clean_texts_test]\n",
        "X_test = np.array(bert_embeddings_test)\n",
        "y1_test = np.array(y_test)\n",
        "for fold, (train_idx, val_idx) in enumerate(kf.split(X, y)):\n",
        "    print(f\"\\n--- Fold {fold + 1} ---\")\n",
        "\n",
        "    X_train_fold = [X[i] for i in train_idx]\n",
        "    y_train_fold = [y[i] for i in train_idx]\n",
        "    X_val_fold = [X[i] for i in val_idx]\n",
        "    y_val_fold = [y[i] for i in val_idx]\n",
        "\n",
        "    train_dataset = BERTDataset(X_train_fold, y_train_fold)\n",
        "    val_dataset = BERTDataset(X_val_fold, y_val_fold)\n",
        "\n",
        "    train_loader = DataLoader(train_dataset, batch_size=8, shuffle=True)\n",
        "    val_loader = DataLoader(val_dataset, batch_size=8)\n",
        "\n",
        "    # Initialize model\n",
        "    model = CNNClassifier().to(device)\n",
        "    optimizer = torch.optim.Adam(model.parameters(), lr=1e-4)\n",
        "    criterion = nn.CrossEntropyLoss()\n",
        "\n",
        "    # Training loop\n",
        "    for epoch in range(3):\n",
        "        model.train()\n",
        "        total_loss = 0\n",
        "        for xb, yb in train_loader:\n",
        "            xb, yb = xb.to(device), yb.to(device)\n",
        "            optimizer.zero_grad()\n",
        "            preds = model(xb)\n",
        "            loss = criterion(preds, yb)\n",
        "            loss.backward()\n",
        "            optimizer.step()\n",
        "            total_loss += loss.item()\n",
        "        print(f\"Epoch {epoch+1}, Loss: {total_loss:.4f}\")\n",
        "\n",
        "    # Validation\n",
        "    model.eval()\n",
        "    val_preds, val_labels = [], []\n",
        "    with torch.no_grad():\n",
        "        for xb, yb in val_loader:\n",
        "            xb = xb.to(device)\n",
        "            outputs = model(xb)\n",
        "            preds = torch.argmax(outputs, dim=1).cpu().numpy()\n",
        "            val_preds.extend(preds)\n",
        "            val_labels.extend(yb.numpy())\n",
        "\n",
        "    print(classification_report(val_labels, val_preds))\n"
      ],
      "metadata": {
        "colab": {
          "base_uri": "https://localhost:8080/"
        },
        "id": "Xh6LXG1Bwar-",
        "outputId": "001be98d-d64d-449b-fd1d-727410e4f391"
      },
      "execution_count": 46,
      "outputs": [
        {
          "output_type": "stream",
          "name": "stdout",
          "text": [
            "\n",
            "--- Fold 1 ---\n",
            "Epoch 1, Loss: 7.7253\n",
            "Epoch 2, Loss: 6.4008\n",
            "Epoch 3, Loss: 5.1468\n",
            "              precision    recall  f1-score   support\n",
            "\n",
            "           0       0.71      0.91      0.80        11\n",
            "           1       0.88      0.64      0.74        11\n",
            "\n",
            "    accuracy                           0.77        22\n",
            "   macro avg       0.79      0.77      0.77        22\n",
            "weighted avg       0.79      0.77      0.77        22\n",
            "\n",
            "\n",
            "--- Fold 2 ---\n",
            "Epoch 1, Loss: 7.5017\n",
            "Epoch 2, Loss: 6.1446\n",
            "Epoch 3, Loss: 5.1660\n",
            "              precision    recall  f1-score   support\n",
            "\n",
            "           0       1.00      0.73      0.84        11\n",
            "           1       0.79      1.00      0.88        11\n",
            "\n",
            "    accuracy                           0.86        22\n",
            "   macro avg       0.89      0.86      0.86        22\n",
            "weighted avg       0.89      0.86      0.86        22\n",
            "\n",
            "\n",
            "--- Fold 3 ---\n",
            "Epoch 1, Loss: 7.9761\n",
            "Epoch 2, Loss: 6.3527\n",
            "Epoch 3, Loss: 5.0921\n",
            "              precision    recall  f1-score   support\n",
            "\n",
            "           0       1.00      1.00      1.00        11\n",
            "           1       1.00      1.00      1.00        11\n",
            "\n",
            "    accuracy                           1.00        22\n",
            "   macro avg       1.00      1.00      1.00        22\n",
            "weighted avg       1.00      1.00      1.00        22\n",
            "\n",
            "\n",
            "--- Fold 4 ---\n",
            "Epoch 1, Loss: 7.3900\n",
            "Epoch 2, Loss: 6.0457\n",
            "Epoch 3, Loss: 4.5737\n",
            "              precision    recall  f1-score   support\n",
            "\n",
            "           0       0.60      0.55      0.57        11\n",
            "           1       0.55      0.60      0.57        10\n",
            "\n",
            "    accuracy                           0.57        21\n",
            "   macro avg       0.57      0.57      0.57        21\n",
            "weighted avg       0.57      0.57      0.57        21\n",
            "\n",
            "\n",
            "--- Fold 5 ---\n",
            "Epoch 1, Loss: 8.0632\n",
            "Epoch 2, Loss: 5.8845\n",
            "Epoch 3, Loss: 5.1492\n",
            "              precision    recall  f1-score   support\n",
            "\n",
            "           0       0.78      0.70      0.74        10\n",
            "           1       0.75      0.82      0.78        11\n",
            "\n",
            "    accuracy                           0.76        21\n",
            "   macro avg       0.76      0.76      0.76        21\n",
            "weighted avg       0.76      0.76      0.76        21\n",
            "\n"
          ]
        }
      ]
    },
    {
      "cell_type": "code",
      "source": [
        "\n",
        "test_dataset = BERTDataset(bert_embeddings_test, y1_test)\n",
        "test_loader = DataLoader(test_dataset, batch_size=8)\n",
        "\n",
        "model.eval()\n",
        "test_preds, test_labels = [], []\n",
        "with torch.no_grad():\n",
        "    for xb, yb in test_loader:\n",
        "        xb = xb.to(device)\n",
        "        outputs = model(xb)\n",
        "        preds = torch.argmax(outputs, dim=1).cpu().numpy()\n",
        "        test_preds.extend(preds)\n",
        "        test_labels.extend(yb.numpy())\n",
        "\n",
        "print(\"\\n--- Final Evaluation on Test Set ---\")\n",
        "print(classification_report(test_labels, test_preds))\n"
      ],
      "metadata": {
        "colab": {
          "base_uri": "https://localhost:8080/"
        },
        "id": "lVzST6hpxQbY",
        "outputId": "7cee34dc-775c-495d-f721-c9f256dba476"
      },
      "execution_count": 47,
      "outputs": [
        {
          "output_type": "stream",
          "name": "stdout",
          "text": [
            "\n",
            "--- Final Evaluation on Test Set ---\n",
            "              precision    recall  f1-score   support\n",
            "\n",
            "           0       0.52      0.50      0.51        24\n",
            "           1       0.52      0.54      0.53        24\n",
            "\n",
            "    accuracy                           0.52        48\n",
            "   macro avg       0.52      0.52      0.52        48\n",
            "weighted avg       0.52      0.52      0.52        48\n",
            "\n"
          ]
        }
      ]
    }
  ]
}