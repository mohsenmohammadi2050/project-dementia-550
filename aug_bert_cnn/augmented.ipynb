{
 "cells": [
  {
   "cell_type": "markdown",
   "id": "dd8c2eee",
   "metadata": {},
   "source": [
    "**Contextual word substitution using BERT is applied as a data augmentation technique to the training sets. The augmented sentences are stored separately, and their semantic similarity to the original sentences is assessed using cosine similarity.**"
   ]
  },
  {
   "cell_type": "code",
   "execution_count": 1,
   "id": "2490e3fd",
   "metadata": {},
   "outputs": [],
   "source": [
    "import sys\n",
    "import os\n",
    "import random\n",
    "sys.path.append(os.path.abspath(\"..\")) "
   ]
  },
  {
   "cell_type": "markdown",
   "id": "124a8d43",
   "metadata": {},
   "source": [
    "### Import utils functions"
   ]
  },
  {
   "cell_type": "code",
   "execution_count": 2,
   "id": "24406e27",
   "metadata": {},
   "outputs": [
    {
     "name": "stderr",
     "output_type": "stream",
     "text": [
      "[nltk_data] Downloading package punkt_tab to\n",
      "[nltk_data]     C:\\Users\\mohse\\AppData\\Roaming\\nltk_data...\n",
      "[nltk_data]   Package punkt_tab is already up-to-date!\n",
      "[nltk_data] Downloading package punkt to\n",
      "[nltk_data]     C:\\Users\\mohse\\AppData\\Roaming\\nltk_data...\n",
      "[nltk_data]   Package punkt is already up-to-date!\n",
      "[nltk_data] Downloading package stopwords to\n",
      "[nltk_data]     C:\\Users\\mohse\\AppData\\Roaming\\nltk_data...\n",
      "[nltk_data]   Package stopwords is already up-to-date!\n",
      "[nltk_data] Downloading package wordnet to\n",
      "[nltk_data]     C:\\Users\\mohse\\AppData\\Roaming\\nltk_data...\n",
      "[nltk_data]   Package wordnet is already up-to-date!\n",
      "[nltk_data] Downloading package averaged_perceptron_tagger_eng to\n",
      "[nltk_data]     C:\\Users\\mohse\\AppData\\Roaming\\nltk_data...\n",
      "[nltk_data]   Package averaged_perceptron_tagger_eng is already up-to-\n",
      "[nltk_data]       date!\n",
      "[nltk_data] Downloading package averaged_perceptron_tagger to\n",
      "[nltk_data]     C:\\Users\\mohse\\AppData\\Roaming\\nltk_data...\n",
      "[nltk_data]   Package averaged_perceptron_tagger is already up-to-\n",
      "[nltk_data]       date!\n",
      "e:\\Master\\DAT550\\project\\project-dementia-550\\venv\\Lib\\site-packages\\tqdm\\auto.py:21: TqdmWarning: IProgress not found. Please update jupyter and ipywidgets. See https://ipywidgets.readthedocs.io/en/stable/user_install.html\n",
      "  from .autonotebook import tqdm as notebook_tqdm\n"
     ]
    }
   ],
   "source": [
    "from utils import *\n",
    "from utils_aug import augment_and_save_contextual_speech, cosine_sim, save_grouped_sentences_to_file"
   ]
  },
  {
   "cell_type": "markdown",
   "id": "06efae43",
   "metadata": {},
   "source": [
    "**Extract all sentences for each patient and put into a list. all_sentences is 2D list as an output.**"
   ]
  },
  {
   "cell_type": "code",
   "execution_count": 3,
   "id": "1929996e",
   "metadata": {},
   "outputs": [],
   "source": [
    "train_cc = \"../ADReSS-IS2020-data/train/transcription/cc\"\n",
    "train_cd = \"../ADReSS-IS2020-data/train/transcription/cd\"\n",
    "test = \"../ADReSS-IS2020-data-test/test/transcription\"\n",
    "all_sentences_cc = extract_all_sentences(train_cc)\n",
    "all_sentences_cd = extract_all_sentences(train_cd)\n",
    "all_sentences_test = extract_all_sentences(test)"
   ]
  },
  {
   "cell_type": "markdown",
   "id": "fc35f1fd",
   "metadata": {},
   "source": [
    "**Apply cleaning step on all_sentences both for training and testing dataset. Output is a 2D list.**"
   ]
  },
  {
   "cell_type": "code",
   "execution_count": 4,
   "id": "743fe1a1",
   "metadata": {},
   "outputs": [],
   "source": [
    "random.seed(42)\n",
    "np.random.seed(42)\n",
    "cleaned_healthy_speech = [\n",
    "    [clean_text(sentence) for sentence in sentence_list]\n",
    "    for sentence_list in all_sentences_cc\n",
    "]\n",
    "\n",
    "cleaned_dementia_speech = [\n",
    "    [clean_text(sentence) for sentence in sentence_list]\n",
    "    for sentence_list in all_sentences_cd\n",
    "]\n",
    "\n",
    "cleaned_test_speech = [\n",
    "    [clean_text(sentence) for sentence in sentence_list]\n",
    "    for sentence_list in all_sentences_test\n",
    "]"
   ]
  },
  {
   "cell_type": "markdown",
   "id": "d1d33c52",
   "metadata": {},
   "source": [
    "### Save cleaned dataset as a txt files for later use"
   ]
  },
  {
   "cell_type": "code",
   "execution_count": 5,
   "id": "bb2d0f5a",
   "metadata": {},
   "outputs": [
    {
     "name": "stdout",
     "output_type": "stream",
     "text": [
      "file saved at: aug_clean_txtfiles/clean_healthy.txt\n",
      "file saved at: aug_clean_txtfiles/clean_dementia.txt\n",
      "file saved at: aug_clean_txtfiles/clean_test.txt\n"
     ]
    }
   ],
   "source": [
    "cleaned_healthy_path = 'aug_clean_txtfiles/clean_healthy.txt'\n",
    "save_grouped_sentences_to_file(cleaned_healthy_speech, cleaned_healthy_path)\n",
    "\n",
    "cleaned_dementia_path = 'aug_clean_txtfiles/clean_dementia.txt'\n",
    "save_grouped_sentences_to_file(cleaned_dementia_speech, cleaned_dementia_path)\n",
    "\n",
    "cleaned_test_path = 'aug_clean_txtfiles/clean_test.txt'\n",
    "save_grouped_sentences_to_file(cleaned_test_speech, cleaned_test_path)\n"
   ]
  },
  {
   "cell_type": "markdown",
   "id": "6ac6c339",
   "metadata": {},
   "source": [
    "### Contextual Augmentation"
   ]
  },
  {
   "cell_type": "code",
   "execution_count": 9,
   "id": "de73a65f",
   "metadata": {},
   "outputs": [],
   "source": [
    "import nlpaug.augmenter.word as naw\n",
    "from sklearn.feature_extraction.text import TfidfVectorizer\n",
    "from sklearn.metrics.pairwise import cosine_similarity\n",
    "import torch"
   ]
  },
  {
   "cell_type": "code",
   "execution_count": null,
   "id": "cb0f5c82",
   "metadata": {},
   "outputs": [],
   "source": [
    "# Augment all clean datasets (only training datasets) and save them for later use.\n",
    "# SEED is added inside utils_aug.py file for reporducibility\n",
    "path_healthy = \"aug_clean_txtfiles/cont_augmented_sentences_healthy.txt\"\n",
    "path_dementia = \"aug_clean_txtfiles/cont_augmented_sentences_dementia.txt\"\n",
    "# The following lines take 3 mintutes in total using CPU. Files are already saved in aug_clean_txtfiles folder.\n",
    "# Set save = True if you want to save the files again.\n",
    "augmented_healthy_speech_cont = augment_and_save_contextual_speech(cleaned_healthy_speech, path_healthy, save=False)\n",
    "augmented_dementia_speech_cont = augment_and_save_contextual_speech(cleaned_dementia_speech, path_dementia, save=False)"
   ]
  },
  {
   "cell_type": "markdown",
   "id": "1b64776b",
   "metadata": {},
   "source": [
    "### Check The Similarity of Augmented and original data\n",
    "\n",
    "Cosine similarity is a metric used to compare the similarity between two non-zero vectors. In the context of text, it involves converting each piece of text into a vector using methods such as TF-IDF or Word embeddings. Once converted into vectors, cosine similarity calculates the **cosine of the angle** between the two vectors:\n",
    "\n",
    "**Cosine Similarity = (A · B) / (||A|| × ||B||)**\n",
    "\n",
    "A higher cosine similarity means the two texts convey a similar meaning or context, represented by a value of 1 or a number close to 1. Additionally, a value of 0 indicates that the texts are orthogonal (completely different), while -1 means the texts are opposite in direction (which is rare in text comparisons).\n",
    "\n",
    "\n"
   ]
  },
  {
   "cell_type": "code",
   "execution_count": 7,
   "id": "61c873b8",
   "metadata": {},
   "outputs": [],
   "source": [
    "flat_clean_healthy = [s for group in cleaned_healthy_speech for s in group]\n",
    "flat_aug_healthy = [s for group in augmented_healthy_speech_cont for s in group]"
   ]
  },
  {
   "cell_type": "code",
   "execution_count": 8,
   "id": "f542df36",
   "metadata": {},
   "outputs": [
    {
     "name": "stdout",
     "output_type": "stream",
     "text": [
      "Clean: well mother stand wash dish\n",
      "Augmented: the mother stand wash ready\n",
      "Cosine Similarity: 0.8706\n",
      "--------------------------------------------------\n",
      "Clean: window open\n",
      "Augmented: i open\n",
      "Cosine Similarity: 0.6983\n",
      "--------------------------------------------------\n",
      "Clean: outside window walk c curve walk\n",
      "Augmented: the window walk c curve within\n",
      "Cosine Similarity: 0.8855\n",
      "--------------------------------------------------\n",
      "Clean: see another building\n",
      "Augmented: see another would\n",
      "Cosine Similarity: 0.7683\n",
      "--------------------------------------------------\n",
      "Clean: look like garage something curtain grass\n",
      "Augmented: sounds like garage something curtain over\n",
      "Cosine Similarity: 0.9549\n",
      "--------------------------------------------------\n",
      "Clean: dish two cup saucer sink\n",
      "Augmented: coffee in cup saucer sink\n",
      "Cosine Similarity: 0.8051\n",
      "--------------------------------------------------\n"
     ]
    },
    {
     "name": "stderr",
     "output_type": "stream",
     "text": [
      "e:\\Master\\DAT550\\project\\project-dementia-550\\venv\\Lib\\site-packages\\sklearn\\feature_extraction\\text.py:547: UserWarning: The parameter 'token_pattern' will not be used since 'analyzer' != 'word'\n",
      "  warnings.warn(\n"
     ]
    }
   ],
   "source": [
    "# Measure similarity for healthy\n",
    "show = 5\n",
    "i = 0\n",
    "for clean, aug in zip(flat_clean_healthy, flat_aug_healthy):\n",
    "    sim = cosine_sim(clean, aug)\n",
    "    print(f\"Clean: {clean}\\nAugmented: {aug}\\nCosine Similarity: {sim:.4f}\\n{'-'*50}\")\n",
    "    if show == i:\n",
    "        break\n",
    "    i += 1"
   ]
  },
  {
   "cell_type": "code",
   "execution_count": null,
   "id": "1fb7e38b",
   "metadata": {},
   "outputs": [],
   "source": []
  }
 ],
 "metadata": {
  "kernelspec": {
   "display_name": "venv",
   "language": "python",
   "name": "python3"
  },
  "language_info": {
   "codemirror_mode": {
    "name": "ipython",
    "version": 3
   },
   "file_extension": ".py",
   "mimetype": "text/x-python",
   "name": "python",
   "nbconvert_exporter": "python",
   "pygments_lexer": "ipython3",
   "version": "3.12.3"
  }
 },
 "nbformat": 4,
 "nbformat_minor": 5
}
